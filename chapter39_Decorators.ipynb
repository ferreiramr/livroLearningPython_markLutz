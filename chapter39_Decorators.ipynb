{
 "cells": [
  {
   "cell_type": "markdown",
   "metadata": {},
   "source": [
    "# CHAPTER 39 - DECORATORS"
   ]
  },
  {
   "cell_type": "markdown",
   "metadata": {},
   "source": [
    "## THE BASICS "
   ]
  },
  {
   "cell_type": "code",
   "execution_count": 4,
   "metadata": {},
   "outputs": [],
   "source": [
    "def decorator(cls):\r\n",
    "    class Wraper:\r\n",
    "        def __init__(self, *args):\r\n",
    "            self.wrapper = cls(*args)\r\n",
    "        def __getattr__(self, name):\r\n",
    "            return getattr(self.wrapper, name)\r\n",
    "    return Wraper"
   ]
  },
  {
   "cell_type": "code",
   "execution_count": 5,
   "metadata": {},
   "outputs": [],
   "source": [
    "@decorator\r\n",
    "class C:\r\n",
    "    def __init__(self, x, y):\r\n",
    "        self.attr = 'spam'"
   ]
  },
  {
   "cell_type": "code",
   "execution_count": 6,
   "metadata": {},
   "outputs": [],
   "source": [
    "x = C(6,7)"
   ]
  },
  {
   "cell_type": "code",
   "execution_count": 8,
   "metadata": {},
   "outputs": [
    {
     "data": {
      "text/plain": [
       "'spam'"
      ]
     },
     "execution_count": 8,
     "metadata": {},
     "output_type": "execute_result"
    }
   ],
   "source": [
    "x.attr"
   ]
  },
  {
   "cell_type": "markdown",
   "metadata": {},
   "source": [
    "## CODING FUNCTIONS DECORATORS"
   ]
  },
  {
   "cell_type": "code",
   "execution_count": 10,
   "metadata": {},
   "outputs": [],
   "source": [
    "class tracer:\r\n",
    "    def __init__(self, func):\r\n",
    "        self.calls = 0\r\n",
    "        self.func = func\r\n",
    "    def __call__(self, *args):\r\n",
    "        self.calls += 1\r\n",
    "        print(f'calls {self.calls} to {self.func.__name__}')"
   ]
  },
  {
   "cell_type": "code",
   "execution_count": 11,
   "metadata": {},
   "outputs": [],
   "source": [
    "@tracer\r\n",
    "def spam(a, b, c):\r\n",
    "    print(a + b + C)"
   ]
  },
  {
   "cell_type": "code",
   "execution_count": 12,
   "metadata": {},
   "outputs": [
    {
     "name": "stdout",
     "output_type": "stream",
     "text": [
      "calls 1 to spam\n"
     ]
    }
   ],
   "source": [
    "spam(1, 2, 3)"
   ]
  },
  {
   "cell_type": "code",
   "execution_count": 13,
   "metadata": {},
   "outputs": [
    {
     "name": "stdout",
     "output_type": "stream",
     "text": [
      "calls 2 to spam\n"
     ]
    }
   ],
   "source": [
    "spam('a', 'b', 'c')"
   ]
  },
  {
   "cell_type": "code",
   "execution_count": 14,
   "metadata": {},
   "outputs": [
    {
     "data": {
      "text/plain": [
       "2"
      ]
     },
     "execution_count": 14,
     "metadata": {},
     "output_type": "execute_result"
    }
   ],
   "source": [
    "spam.calls"
   ]
  },
  {
   "cell_type": "markdown",
   "metadata": {},
   "source": [
    "## DECORATOR STATE RETENTION OPTIONS"
   ]
  },
  {
   "cell_type": "code",
   "execution_count": 26,
   "metadata": {},
   "outputs": [],
   "source": [
    "class tracer:\r\n",
    "    def __init__(self, func):\r\n",
    "        self.calls = 0\r\n",
    "        self.func = func\r\n",
    "    def __call__(self, *args, **kwargs):\r\n",
    "        self.calls += 1\r\n",
    "        print(f'call {self.calls} to {self.func.__name__}')\r\n",
    "        return self.func(*args, **kwargs)"
   ]
  },
  {
   "cell_type": "code",
   "execution_count": 2,
   "metadata": {},
   "outputs": [],
   "source": [
    "@tracer\r\n",
    "def spam(a, b, c):\r\n",
    "    print(a + b + c)"
   ]
  },
  {
   "cell_type": "code",
   "execution_count": 4,
   "metadata": {},
   "outputs": [],
   "source": [
    "@tracer\r\n",
    "def eggs(x, y):\r\n",
    "    print(x ** y)"
   ]
  },
  {
   "cell_type": "code",
   "execution_count": 5,
   "metadata": {},
   "outputs": [
    {
     "name": "stdout",
     "output_type": "stream",
     "text": [
      "call 1 to spam\n",
      "6\n"
     ]
    }
   ],
   "source": [
    "spam(1, 2, 3)"
   ]
  },
  {
   "cell_type": "code",
   "execution_count": 6,
   "metadata": {},
   "outputs": [
    {
     "name": "stdout",
     "output_type": "stream",
     "text": [
      "call 2 to spam\n",
      "15\n"
     ]
    }
   ],
   "source": [
    "spam(a=4, b=5, c=6)"
   ]
  },
  {
   "cell_type": "code",
   "execution_count": 7,
   "metadata": {},
   "outputs": [
    {
     "name": "stdout",
     "output_type": "stream",
     "text": [
      "call 1 to eggs\n",
      "65536\n"
     ]
    }
   ],
   "source": [
    "eggs(2, 16)"
   ]
  },
  {
   "cell_type": "code",
   "execution_count": 8,
   "metadata": {},
   "outputs": [
    {
     "name": "stdout",
     "output_type": "stream",
     "text": [
      "call 2 to eggs\n",
      "256\n"
     ]
    }
   ],
   "source": [
    "eggs(4, y=4)"
   ]
  },
  {
   "cell_type": "code",
   "execution_count": 10,
   "metadata": {},
   "outputs": [],
   "source": [
    "def tracer(func):\r\n",
    "    calls = 0\r\n",
    "    def wrapper(*args, **kwargs):\r\n",
    "        nonlocal calls\r\n",
    "        calls += 1\r\n",
    "        print(f'call {calls} to {func.__name__}')\r\n",
    "        return func(*args, **kwargs)\r\n",
    "    return wrapper"
   ]
  },
  {
   "cell_type": "code",
   "execution_count": 11,
   "metadata": {},
   "outputs": [],
   "source": [
    "@tracer\r\n",
    "def spam(a, b, c):\r\n",
    "    print(a + b + c)"
   ]
  },
  {
   "cell_type": "code",
   "execution_count": 12,
   "metadata": {},
   "outputs": [],
   "source": [
    "@tracer\r\n",
    "def eggs(x, y):\r\n",
    "    print(x ** y)"
   ]
  },
  {
   "cell_type": "code",
   "execution_count": 13,
   "metadata": {},
   "outputs": [
    {
     "name": "stdout",
     "output_type": "stream",
     "text": [
      "call 1 to spam\n",
      "6\n"
     ]
    }
   ],
   "source": [
    "spam(1, 2, 3)"
   ]
  },
  {
   "cell_type": "code",
   "execution_count": 14,
   "metadata": {},
   "outputs": [
    {
     "name": "stdout",
     "output_type": "stream",
     "text": [
      "call 2 to spam\n",
      "15\n"
     ]
    }
   ],
   "source": [
    "spam(a=4, b=5, c=6)"
   ]
  },
  {
   "cell_type": "code",
   "execution_count": 15,
   "metadata": {},
   "outputs": [
    {
     "name": "stdout",
     "output_type": "stream",
     "text": [
      "call 1 to eggs\n",
      "65536\n"
     ]
    }
   ],
   "source": [
    "eggs(2, 16)"
   ]
  },
  {
   "cell_type": "code",
   "execution_count": 16,
   "metadata": {},
   "outputs": [
    {
     "name": "stdout",
     "output_type": "stream",
     "text": [
      "call 2 to eggs\n",
      "256\n"
     ]
    }
   ],
   "source": [
    "eggs(4, y=4)"
   ]
  },
  {
   "cell_type": "markdown",
   "metadata": {},
   "source": [
    "## CLASS BLUNDERS I: DECORATING METODS "
   ]
  },
  {
   "cell_type": "code",
   "execution_count": 17,
   "metadata": {},
   "outputs": [],
   "source": [
    "class Person:\r\n",
    "    def __init__(self, name, pay):\r\n",
    "        self.name = name\r\n",
    "        self.pay = pay\r\n",
    "\r\n",
    "    @tracer\r\n",
    "    def giveRaise(self, percent):\r\n",
    "        self.pay *= (1. + percent)\r\n",
    "\r\n",
    "    @tracer\r\n",
    "    def lastName(self):\r\n",
    "        return self.name.split()[-1]"
   ]
  },
  {
   "cell_type": "code",
   "execution_count": 27,
   "metadata": {},
   "outputs": [],
   "source": [
    "bob = Person('Bob Smith', 50000)"
   ]
  },
  {
   "cell_type": "code",
   "execution_count": 28,
   "metadata": {},
   "outputs": [
    {
     "name": "stdout",
     "output_type": "stream",
     "text": [
      "call 3 to giveRaise\n"
     ]
    }
   ],
   "source": [
    "bob.giveRaise(.25)"
   ]
  },
  {
   "cell_type": "code",
   "execution_count": 29,
   "metadata": {},
   "outputs": [
    {
     "name": "stdout",
     "output_type": "stream",
     "text": [
      "call 3 to lastName\n",
      "Smith\n"
     ]
    }
   ],
   "source": [
    "print(bob.lastName())"
   ]
  },
  {
   "cell_type": "code",
   "execution_count": 30,
   "metadata": {},
   "outputs": [
    {
     "data": {
      "text/plain": [
       "62500.0"
      ]
     },
     "execution_count": 30,
     "metadata": {},
     "output_type": "execute_result"
    }
   ],
   "source": [
    "bob.pay"
   ]
  },
  {
   "cell_type": "code",
   "execution_count": 31,
   "metadata": {},
   "outputs": [
    {
     "name": "stdout",
     "output_type": "stream",
     "text": [
      "call 4 to giveRaise\n"
     ]
    }
   ],
   "source": [
    "bob.giveRaise(.25)"
   ]
  },
  {
   "cell_type": "code",
   "execution_count": 32,
   "metadata": {},
   "outputs": [
    {
     "name": "stdout",
     "output_type": "stream",
     "text": [
      "call 4 to lastName\n",
      "Smith\n"
     ]
    }
   ],
   "source": [
    "print(bob.lastName())"
   ]
  },
  {
   "cell_type": "markdown",
   "metadata": {},
   "source": [
    "## TIMING CALLS "
   ]
  },
  {
   "cell_type": "code",
   "execution_count": 6,
   "metadata": {},
   "outputs": [],
   "source": [
    "import time, sys"
   ]
  },
  {
   "cell_type": "code",
   "execution_count": 53,
   "metadata": {},
   "outputs": [],
   "source": [
    "class timer:\r\n",
    "    def __init__(self, func):\r\n",
    "        self.func = func\r\n",
    "        self.alltime = 0\r\n",
    "    def __call__(self, *args, **kargs):\r\n",
    "        start = time.time()\r\n",
    "        result = self.func(*args, **kargs)\r\n",
    "        elapsed = time.time() - start\r\n",
    "        self.alltime += elapsed\r\n",
    "        print(f'{self.func.__name__}: {self.alltime}')\r\n",
    "        return result"
   ]
  },
  {
   "cell_type": "code",
   "execution_count": 54,
   "metadata": {},
   "outputs": [],
   "source": [
    "@timer\r\n",
    "def listcomp(N):\r\n",
    "    return [x * 2 for x in range(N)]"
   ]
  },
  {
   "cell_type": "code",
   "execution_count": 71,
   "metadata": {},
   "outputs": [],
   "source": [
    "@timer\r\n",
    "def mapcall(N):\r\n",
    "    return list(map((lambda x: x * 2), range(N)))"
   ]
  },
  {
   "cell_type": "code",
   "execution_count": 72,
   "metadata": {},
   "outputs": [
    {
     "name": "stdout",
     "output_type": "stream",
     "text": [
      "listcomp: 0.3282938003540039\n",
      "listcomp: 0.331326961517334\n",
      "listcomp: 0.3762953281402588\n",
      "listcomp: 0.45629239082336426\n",
      "[0, 2, 4, 6, 8]\n",
      "allTime = 0.45629239082336426\n"
     ]
    }
   ],
   "source": [
    "result = listcomp(5) # Time for this call, all calls, return value\r\n",
    "listcomp(50000)\r\n",
    "listcomp(500000)\r\n",
    "listcomp(1000000)\r\n",
    "print(result)\r\n",
    "print('allTime = %s' % listcomp.alltime) # Total time for all listcomp calls"
   ]
  },
  {
   "cell_type": "code",
   "execution_count": 73,
   "metadata": {},
   "outputs": [
    {
     "name": "stdout",
     "output_type": "stream",
     "text": [
      "mapcall: 0.0\n",
      "mapcall: 0.006997346878051758\n",
      "mapcall: 0.0820014476776123\n",
      "mapcall: 0.2289738655090332\n",
      "[0, 2, 4, 6, 8]\n",
      "allTime = 0.2289738655090332\n"
     ]
    }
   ],
   "source": [
    "result = mapcall(5)\r\n",
    "mapcall(50000)\r\n",
    "mapcall(500000)\r\n",
    "mapcall(1000000)\r\n",
    "print(result)\r\n",
    "print('allTime = %s' % mapcall.alltime)"
   ]
  },
  {
   "cell_type": "markdown",
   "metadata": {},
   "source": [
    "## ADDING DECORATOR ARGUMENTS"
   ]
  },
  {
   "cell_type": "code",
   "execution_count": 1,
   "metadata": {},
   "outputs": [],
   "source": [
    "def timer(label='', trace=True):\r\n",
    "    class Timer:\r\n",
    "        def __init__(self, func):\r\n",
    "            self.func = func\r\n",
    "            self.alltime = 0\r\n",
    "        def __call__(self, *args, **kargs):\r\n",
    "            import time\r\n",
    "            start = time.time()\r\n",
    "            result = self.func(*args, *kargs)\r\n",
    "            elapsed = time.time() - start\r\n",
    "            self.alltime += elapsed\r\n",
    "            if trace:\r\n",
    "                format = '%s %s: %.5f, %.5f'\r\n",
    "                values = (label, self.func.__name__, elapsed, self.alltime)\r\n",
    "                print(format % values)\r\n",
    "            return result\r\n",
    "    return Timer"
   ]
  },
  {
   "cell_type": "code",
   "execution_count": 2,
   "metadata": {},
   "outputs": [],
   "source": [
    "@timer(label='[CCC]==>')\r\n",
    "def listcomp(N):\r\n",
    "    return [x * 2 for x in range(N)]"
   ]
  },
  {
   "cell_type": "code",
   "execution_count": 3,
   "metadata": {},
   "outputs": [],
   "source": [
    "@timer(trace=True, label='[MMM]==>')\r\n",
    "def mapcall(N):\r\n",
    "    return list(map((lambda x: x * 2), range(N)))"
   ]
  },
  {
   "cell_type": "code",
   "execution_count": 4,
   "metadata": {},
   "outputs": [
    {
     "name": "stdout",
     "output_type": "stream",
     "text": [
      "[CCC]==> listcomp: 0.00000, 0.00000\n",
      "[CCC]==> listcomp: 0.00300, 0.00300\n",
      "[CCC]==> listcomp: 0.05501, 0.05801\n",
      "[CCC]==> listcomp: 0.09552, 0.15353\n",
      "[0, 2, 4, 6, 8]\n",
      "allTime = 0.15353131294250488\n",
      "\n",
      "[MMM]==> mapcall: 0.00000, 0.00000\n",
      "[MMM]==> mapcall: 0.00700, 0.00700\n",
      "[MMM]==> mapcall: 0.06702, 0.07402\n",
      "[MMM]==> mapcall: 0.13695, 0.21097\n",
      "[0, 2, 4, 6, 8]\n",
      "allTime = 0.21096515655517578\n",
      "\n",
      "**map/comp = 1.374\n"
     ]
    }
   ],
   "source": [
    "for func in (listcomp, mapcall):\r\n",
    "    result = func(5)\r\n",
    "    func(50000)\r\n",
    "    func(500000)\r\n",
    "    func(1000000)\r\n",
    "    print(result)\r\n",
    "    print('allTime = %s\\n' % func.alltime) \r\n",
    "print('**map/comp = %s' % round(mapcall.alltime / listcomp.alltime, 3))"
   ]
  },
  {
   "cell_type": "markdown",
   "metadata": {},
   "source": [
    "## CODING CLASS DECORATORS"
   ]
  },
  {
   "cell_type": "code",
   "execution_count": 6,
   "metadata": {},
   "outputs": [],
   "source": [
    "instances = {}\r\n",
    "def singleton(aClass):\r\n",
    "    def onCall(*args, **kwargs):\r\n",
    "        if aClass not in instances:\r\n",
    "            instances[aClass] = aClass(*args, **kwargs)\r\n",
    "        return instances[aClass]\r\n",
    "    return onCall"
   ]
  },
  {
   "cell_type": "code",
   "execution_count": 7,
   "metadata": {},
   "outputs": [],
   "source": [
    "@singleton\r\n",
    "class Person:\r\n",
    "    def __init__(self, name, hours, rate):\r\n",
    "        self.name = name\r\n",
    "        self.hours = hours\r\n",
    "        self.rate = rate\r\n",
    "    def pay(self):\r\n",
    "        return self.hours * self.rate"
   ]
  },
  {
   "cell_type": "code",
   "execution_count": 8,
   "metadata": {},
   "outputs": [],
   "source": [
    "@singleton\r\n",
    "class Spam:\r\n",
    "    def __init__(self, val):\r\n",
    "        self.attr = val    "
   ]
  },
  {
   "cell_type": "code",
   "execution_count": 9,
   "metadata": {},
   "outputs": [
    {
     "name": "stdout",
     "output_type": "stream",
     "text": [
      "Bob 400\n"
     ]
    }
   ],
   "source": [
    "bob = Person('Bob', 40, 10)\r\n",
    "print(bob.name, bob.pay())"
   ]
  },
  {
   "cell_type": "code",
   "execution_count": 10,
   "metadata": {},
   "outputs": [
    {
     "name": "stdout",
     "output_type": "stream",
     "text": [
      "Bob 400\n"
     ]
    }
   ],
   "source": [
    "sue = Person('Sue', 50, 20)\r\n",
    "print(sue.name, sue.pay())"
   ]
  },
  {
   "cell_type": "code",
   "execution_count": 11,
   "metadata": {},
   "outputs": [],
   "source": [
    "X = Spam(val=42)"
   ]
  },
  {
   "cell_type": "code",
   "execution_count": 12,
   "metadata": {},
   "outputs": [],
   "source": [
    "Y = Spam(99)"
   ]
  },
  {
   "cell_type": "code",
   "execution_count": 13,
   "metadata": {},
   "outputs": [
    {
     "name": "stdout",
     "output_type": "stream",
     "text": [
      "42 42\n"
     ]
    }
   ],
   "source": [
    "print(X.attr, Y.attr)"
   ]
  },
  {
   "cell_type": "code",
   "execution_count": 14,
   "metadata": {},
   "outputs": [],
   "source": [
    "def singleton(aClass):\r\n",
    "    instance = None\r\n",
    "    def onCall(*args, **kwargs):\r\n",
    "        nonlocal instance\r\n",
    "        if instance == None:\r\n",
    "            instance = aClass(*args, **kwargs)\r\n",
    "        return instance\r\n",
    "    return onCall"
   ]
  },
  {
   "cell_type": "code",
   "execution_count": 15,
   "metadata": {},
   "outputs": [],
   "source": [
    "def singleton(aClass):\r\n",
    "    def onCall(*args, **kwargs):\r\n",
    "        if onCall.instance == None:\r\n",
    "            onCall.instance = aClass(*args, **kwargs)\r\n",
    "        return onCall.instance\r\n",
    "    onCall.instance = None\r\n",
    "    return onCall"
   ]
  },
  {
   "cell_type": "code",
   "execution_count": 16,
   "metadata": {},
   "outputs": [],
   "source": [
    "class singleton:\r\n",
    "    def __init__(self, aClass):\r\n",
    "        self.aClass = aClass\r\n",
    "        self.instance = None\r\n",
    "    def __call__(self, *args, **kwargs):\r\n",
    "        if self.instance == None:\r\n",
    "            self.instance = self.aClass(*args, **kwargs)\r\n",
    "        return self.instance"
   ]
  },
  {
   "cell_type": "markdown",
   "metadata": {},
   "source": [
    "## TRACING OBJECTS INTERFACES"
   ]
  },
  {
   "cell_type": "code",
   "execution_count": null,
   "metadata": {},
   "outputs": [],
   "source": []
  },
  {
   "cell_type": "code",
   "execution_count": null,
   "metadata": {},
   "outputs": [],
   "source": []
  },
  {
   "cell_type": "code",
   "execution_count": null,
   "metadata": {},
   "outputs": [],
   "source": []
  },
  {
   "cell_type": "code",
   "execution_count": null,
   "metadata": {},
   "outputs": [],
   "source": []
  },
  {
   "cell_type": "code",
   "execution_count": null,
   "metadata": {},
   "outputs": [],
   "source": []
  },
  {
   "cell_type": "code",
   "execution_count": null,
   "metadata": {},
   "outputs": [],
   "source": []
  },
  {
   "cell_type": "code",
   "execution_count": null,
   "metadata": {},
   "outputs": [],
   "source": []
  }
 ],
 "metadata": {
  "interpreter": {
   "hash": "cef9e06bb236b2a8629b07e87a04b187b952a0f661eff5533360a155783f0c33"
  },
  "kernelspec": {
   "display_name": "Python 3.8.5 64-bit ('base': conda)",
   "name": "python3"
  },
  "language_info": {
   "codemirror_mode": {
    "name": "ipython",
    "version": 3
   },
   "file_extension": ".py",
   "mimetype": "text/x-python",
   "name": "python",
   "nbconvert_exporter": "python",
   "pygments_lexer": "ipython3",
   "version": "3.8.5"
  },
  "orig_nbformat": 2
 },
 "nbformat": 4,
 "nbformat_minor": 2
}