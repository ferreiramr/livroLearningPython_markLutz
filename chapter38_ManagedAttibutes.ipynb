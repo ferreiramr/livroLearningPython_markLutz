{
 "cells": [
  {
   "cell_type": "markdown",
   "metadata": {},
   "source": [
    "# CHAPTER 38 - MANAGED ATTIBUTES"
   ]
  },
  {
   "cell_type": "markdown",
   "metadata": {},
   "source": [
    "## WHY MANAGE ATTRIBUTES?"
   ]
  },
  {
   "cell_type": "code",
   "execution_count": 4,
   "metadata": {},
   "outputs": [],
   "source": [
    "class Person:\r\n",
    "    def getName(self):\r\n",
    "        if not valid():\r\n",
    "            raise TypeError('cannot featch name')\r\n",
    "        else:\r\n",
    "            return self.getName.transform()\r\n",
    "\r\n",
    "    def setName(self, value):\r\n",
    "        if not valid(value):\r\n",
    "            raise TypeError('cannot change name')\r\n",
    "        else:\r\n",
    "            self.name = transform(value)"
   ]
  },
  {
   "cell_type": "markdown",
   "metadata": {},
   "source": [
    "## PROPERTIES"
   ]
  },
  {
   "cell_type": "code",
   "execution_count": 1,
   "metadata": {},
   "outputs": [],
   "source": [
    "class Person:\n",
    "    def __init__(self, name):\n",
    "        self._name = name\n",
    "    def getName(self):\n",
    "        print('fethc...')\n",
    "        return self._name\n",
    "    def setName(self, value):\n",
    "        print('change...')\n",
    "        self._name = value\n",
    "    def delName(self):\n",
    "        print('remove...')\n",
    "        del self._name\n",
    "    name = property(getName, setName, delName, \"name property docs\")"
   ]
  },
  {
   "cell_type": "code",
   "execution_count": 2,
   "metadata": {},
   "outputs": [],
   "source": [
    "bob = Person('Bob Smith')"
   ]
  },
  {
   "cell_type": "code",
   "execution_count": 3,
   "metadata": {},
   "outputs": [
    {
     "name": "stdout",
     "output_type": "stream",
     "text": [
      "fethc...\n"
     ]
    },
    {
     "data": {
      "text/plain": [
       "'Bob Smith'"
      ]
     },
     "execution_count": 3,
     "metadata": {},
     "output_type": "execute_result"
    }
   ],
   "source": [
    "bob.name"
   ]
  },
  {
   "cell_type": "code",
   "execution_count": 6,
   "metadata": {},
   "outputs": [
    {
     "name": "stdout",
     "output_type": "stream",
     "text": [
      "change...\n"
     ]
    }
   ],
   "source": [
    "bob.name = 'Robert Smith'"
   ]
  },
  {
   "cell_type": "code",
   "execution_count": 7,
   "metadata": {},
   "outputs": [
    {
     "name": "stdout",
     "output_type": "stream",
     "text": [
      "fethc...\n"
     ]
    },
    {
     "data": {
      "text/plain": [
       "'Robert Smith'"
      ]
     },
     "execution_count": 7,
     "metadata": {},
     "output_type": "execute_result"
    }
   ],
   "source": [
    "bob.name"
   ]
  },
  {
   "cell_type": "code",
   "execution_count": 8,
   "metadata": {},
   "outputs": [
    {
     "name": "stdout",
     "output_type": "stream",
     "text": [
      "remove...\n"
     ]
    }
   ],
   "source": [
    "del bob.name"
   ]
  },
  {
   "cell_type": "code",
   "execution_count": 9,
   "metadata": {},
   "outputs": [],
   "source": [
    "sue = Person('Sue Jones')"
   ]
  },
  {
   "cell_type": "code",
   "execution_count": 10,
   "metadata": {},
   "outputs": [
    {
     "name": "stdout",
     "output_type": "stream",
     "text": [
      "fethc...\n"
     ]
    },
    {
     "data": {
      "text/plain": [
       "'Sue Jones'"
      ]
     },
     "execution_count": 10,
     "metadata": {},
     "output_type": "execute_result"
    }
   ],
   "source": [
    "sue.name"
   ]
  },
  {
   "cell_type": "code",
   "execution_count": 11,
   "metadata": {},
   "outputs": [
    {
     "data": {
      "text/plain": [
       "'name property docs'"
      ]
     },
     "execution_count": 11,
     "metadata": {},
     "output_type": "execute_result"
    }
   ],
   "source": [
    "Person.name.__doc__"
   ]
  },
  {
   "cell_type": "markdown",
   "metadata": {},
   "source": [
    "## COMPUTED ATTRIBUTES"
   ]
  },
  {
   "cell_type": "code",
   "execution_count": 15,
   "metadata": {},
   "outputs": [],
   "source": [
    "class PropSquare:\n",
    "    def __init__(self, start):\n",
    "        self.value = start\n",
    "    def getX(self):\n",
    "        return self.value ** 2\n",
    "    def setX(self, value):\n",
    "        self.value = value\n",
    "    X = property(getX, setX)"
   ]
  },
  {
   "cell_type": "code",
   "execution_count": 16,
   "metadata": {},
   "outputs": [],
   "source": [
    "P = PropSquare(3)"
   ]
  },
  {
   "cell_type": "code",
   "execution_count": 17,
   "metadata": {},
   "outputs": [],
   "source": [
    "Q = PropSquare(32)"
   ]
  },
  {
   "cell_type": "code",
   "execution_count": 19,
   "metadata": {},
   "outputs": [
    {
     "data": {
      "text/plain": [
       "9"
      ]
     },
     "execution_count": 19,
     "metadata": {},
     "output_type": "execute_result"
    }
   ],
   "source": [
    "P.X"
   ]
  },
  {
   "cell_type": "code",
   "execution_count": 21,
   "metadata": {},
   "outputs": [
    {
     "data": {
      "text/plain": [
       "1024"
      ]
     },
     "execution_count": 21,
     "metadata": {},
     "output_type": "execute_result"
    }
   ],
   "source": [
    "Q.X"
   ]
  },
  {
   "cell_type": "markdown",
   "metadata": {},
   "source": [
    "## CODING PROPERTIES WITH DECORATORS"
   ]
  },
  {
   "cell_type": "code",
   "execution_count": 24,
   "metadata": {},
   "outputs": [],
   "source": [
    "class Person:\n",
    "    def __init__(self, name):\n",
    "        self._name = name\n",
    "    \n",
    "    @property\n",
    "    def name(self):\n",
    "        \"name property docs\"\n",
    "        print('fetch...')\n",
    "        return self._name\n",
    "    \n",
    "    @name.setter\n",
    "    def name(self, value):\n",
    "        print('change...')\n",
    "        self._name = value\n",
    "\n",
    "    @name.deleter\n",
    "    def name(self):\n",
    "        print('remove...')\n",
    "        del self._name"
   ]
  },
  {
   "cell_type": "code",
   "execution_count": 25,
   "metadata": {},
   "outputs": [],
   "source": [
    "bob = Person('Bob Smith')"
   ]
  },
  {
   "cell_type": "code",
   "execution_count": 26,
   "metadata": {},
   "outputs": [
    {
     "name": "stdout",
     "output_type": "stream",
     "text": [
      "fetch...\n"
     ]
    },
    {
     "data": {
      "text/plain": [
       "'Bob Smith'"
      ]
     },
     "execution_count": 26,
     "metadata": {},
     "output_type": "execute_result"
    }
   ],
   "source": [
    "bob.name"
   ]
  },
  {
   "cell_type": "code",
   "execution_count": 27,
   "metadata": {},
   "outputs": [
    {
     "name": "stdout",
     "output_type": "stream",
     "text": [
      "remove...\n"
     ]
    }
   ],
   "source": [
    "del bob.name"
   ]
  },
  {
   "cell_type": "code",
   "execution_count": 29,
   "metadata": {},
   "outputs": [],
   "source": [
    "sue = Person('Sue Jones')"
   ]
  },
  {
   "cell_type": "code",
   "execution_count": 30,
   "metadata": {},
   "outputs": [
    {
     "name": "stdout",
     "output_type": "stream",
     "text": [
      "fetch...\n"
     ]
    },
    {
     "data": {
      "text/plain": [
       "'Sue Jones'"
      ]
     },
     "execution_count": 30,
     "metadata": {},
     "output_type": "execute_result"
    }
   ],
   "source": [
    "sue.name"
   ]
  },
  {
   "cell_type": "code",
   "execution_count": 31,
   "metadata": {},
   "outputs": [
    {
     "data": {
      "text/plain": [
       "'name property docs'"
      ]
     },
     "execution_count": 31,
     "metadata": {},
     "output_type": "execute_result"
    }
   ],
   "source": [
    "Person.name.__doc__"
   ]
  },
  {
   "cell_type": "markdown",
   "metadata": {},
   "source": [
    "## DESCRIPTORS"
   ]
  },
  {
   "cell_type": "code",
   "execution_count": 34,
   "metadata": {},
   "outputs": [],
   "source": [
    "class Descriptor:\n",
    "    \"docstring goes here\"\n",
    "    def __get__(self, instance, owner): ...\n",
    "    def __set__(self, instance, value): ...\n",
    "    def __delete__(self, instance):..."
   ]
  },
  {
   "cell_type": "code",
   "execution_count": 35,
   "metadata": {},
   "outputs": [],
   "source": [
    "class Descriptor:\n",
    "    def __get__(self, instance, owner):\n",
    "        print(self, instance, owner, sep='\\n')"
   ]
  },
  {
   "cell_type": "code",
   "execution_count": 37,
   "metadata": {},
   "outputs": [],
   "source": [
    "class Subject:\n",
    "    attr = Descriptor()"
   ]
  },
  {
   "cell_type": "code",
   "execution_count": 38,
   "metadata": {},
   "outputs": [],
   "source": [
    "X = Subject()"
   ]
  },
  {
   "cell_type": "code",
   "execution_count": 39,
   "metadata": {},
   "outputs": [
    {
     "name": "stdout",
     "output_type": "stream",
     "text": [
      "<__main__.Descriptor object at 0x00000281DC63D5E0>\n",
      "<__main__.Subject object at 0x00000281DD2BBA00>\n",
      "<class '__main__.Subject'>\n"
     ]
    }
   ],
   "source": [
    "X.attr"
   ]
  },
  {
   "cell_type": "code",
   "execution_count": 40,
   "metadata": {},
   "outputs": [
    {
     "name": "stdout",
     "output_type": "stream",
     "text": [
      "<__main__.Descriptor object at 0x00000281DC63D5E0>\n",
      "None\n",
      "<class '__main__.Subject'>\n"
     ]
    }
   ],
   "source": [
    "Subject.attr"
   ]
  },
  {
   "cell_type": "code",
   "execution_count": 42,
   "metadata": {},
   "outputs": [],
   "source": [
    "class D:\n",
    "    def __get__(*args):\n",
    "        print('get')"
   ]
  },
  {
   "cell_type": "code",
   "execution_count": 43,
   "metadata": {},
   "outputs": [],
   "source": [
    "class C:\n",
    "    a = D()"
   ]
  },
  {
   "cell_type": "code",
   "execution_count": 44,
   "metadata": {},
   "outputs": [],
   "source": [
    "X = C()"
   ]
  },
  {
   "cell_type": "code",
   "execution_count": 45,
   "metadata": {},
   "outputs": [
    {
     "name": "stdout",
     "output_type": "stream",
     "text": [
      "get\n"
     ]
    }
   ],
   "source": [
    "X.a"
   ]
  },
  {
   "cell_type": "code",
   "execution_count": 46,
   "metadata": {},
   "outputs": [
    {
     "name": "stdout",
     "output_type": "stream",
     "text": [
      "get\n"
     ]
    }
   ],
   "source": [
    "\n",
    "C.a"
   ]
  },
  {
   "cell_type": "code",
   "execution_count": 49,
   "metadata": {},
   "outputs": [],
   "source": [
    "X.a = 99"
   ]
  },
  {
   "cell_type": "code",
   "execution_count": 50,
   "metadata": {},
   "outputs": [
    {
     "data": {
      "text/plain": [
       "99"
      ]
     },
     "execution_count": 50,
     "metadata": {},
     "output_type": "execute_result"
    }
   ],
   "source": [
    "X.a"
   ]
  },
  {
   "cell_type": "code",
   "execution_count": 51,
   "metadata": {},
   "outputs": [
    {
     "data": {
      "text/plain": [
       "['a']"
      ]
     },
     "execution_count": 51,
     "metadata": {},
     "output_type": "execute_result"
    }
   ],
   "source": [
    "list(X.__dict__.keys())"
   ]
  },
  {
   "cell_type": "code",
   "execution_count": 52,
   "metadata": {},
   "outputs": [],
   "source": [
    "Y = C()"
   ]
  },
  {
   "cell_type": "code",
   "execution_count": 53,
   "metadata": {},
   "outputs": [
    {
     "name": "stdout",
     "output_type": "stream",
     "text": [
      "get\n"
     ]
    }
   ],
   "source": [
    "Y.a"
   ]
  },
  {
   "cell_type": "code",
   "execution_count": 54,
   "metadata": {},
   "outputs": [
    {
     "name": "stdout",
     "output_type": "stream",
     "text": [
      "get\n"
     ]
    }
   ],
   "source": [
    "C.a"
   ]
  },
  {
   "cell_type": "code",
   "execution_count": 56,
   "metadata": {},
   "outputs": [
    {
     "data": {
      "text/plain": [
       "dict_keys(['__module__', '__get__', '__dict__', '__weakref__', '__doc__'])"
      ]
     },
     "execution_count": 56,
     "metadata": {},
     "output_type": "execute_result"
    }
   ],
   "source": [
    "D.__dict__.keys()"
   ]
  },
  {
   "cell_type": "code",
   "execution_count": 67,
   "metadata": {},
   "outputs": [],
   "source": [
    "class D:\n",
    "    def __get__(*args):\n",
    "        print('get')\n",
    "    def __set__(*args):\n",
    "        raise AttributeError('cannot set')"
   ]
  },
  {
   "cell_type": "code",
   "execution_count": 68,
   "metadata": {},
   "outputs": [],
   "source": [
    "class C:\n",
    "    a = D()"
   ]
  },
  {
   "cell_type": "code",
   "execution_count": 69,
   "metadata": {},
   "outputs": [],
   "source": [
    "X = C()"
   ]
  },
  {
   "cell_type": "code",
   "execution_count": 70,
   "metadata": {},
   "outputs": [
    {
     "name": "stdout",
     "output_type": "stream",
     "text": [
      "get\n"
     ]
    }
   ],
   "source": [
    "X.a"
   ]
  },
  {
   "cell_type": "code",
   "execution_count": 71,
   "metadata": {},
   "outputs": [
    {
     "ename": "AttributeError",
     "evalue": "cannot set",
     "output_type": "error",
     "traceback": [
      "\u001b[1;31m---------------------------------------------------------------------------\u001b[0m",
      "\u001b[1;31mAttributeError\u001b[0m                            Traceback (most recent call last)",
      "\u001b[1;32m<ipython-input-71-1ce34fee47e1>\u001b[0m in \u001b[0;36m<module>\u001b[1;34m\u001b[0m\n\u001b[1;32m----> 1\u001b[1;33m \u001b[0mX\u001b[0m\u001b[1;33m.\u001b[0m\u001b[0ma\u001b[0m \u001b[1;33m=\u001b[0m \u001b[1;36m99\u001b[0m\u001b[1;33m\u001b[0m\u001b[1;33m\u001b[0m\u001b[0m\n\u001b[0m",
      "\u001b[1;32m<ipython-input-67-d4d4f3805b17>\u001b[0m in \u001b[0;36m__set__\u001b[1;34m(*args)\u001b[0m\n\u001b[0;32m      3\u001b[0m         \u001b[0mprint\u001b[0m\u001b[1;33m(\u001b[0m\u001b[1;34m'get'\u001b[0m\u001b[1;33m)\u001b[0m\u001b[1;33m\u001b[0m\u001b[1;33m\u001b[0m\u001b[0m\n\u001b[0;32m      4\u001b[0m     \u001b[1;32mdef\u001b[0m \u001b[0m__set__\u001b[0m\u001b[1;33m(\u001b[0m\u001b[1;33m*\u001b[0m\u001b[0margs\u001b[0m\u001b[1;33m)\u001b[0m\u001b[1;33m:\u001b[0m\u001b[1;33m\u001b[0m\u001b[1;33m\u001b[0m\u001b[0m\n\u001b[1;32m----> 5\u001b[1;33m         \u001b[1;32mraise\u001b[0m \u001b[0mAttributeError\u001b[0m\u001b[1;33m(\u001b[0m\u001b[1;34m'cannot set'\u001b[0m\u001b[1;33m)\u001b[0m\u001b[1;33m\u001b[0m\u001b[1;33m\u001b[0m\u001b[0m\n\u001b[0m",
      "\u001b[1;31mAttributeError\u001b[0m: cannot set"
     ]
    }
   ],
   "source": [
    "X.a = 99"
   ]
  },
  {
   "cell_type": "markdown",
   "metadata": {},
   "source": [
    "## A FIRST EXAMPLE"
   ]
  },
  {
   "cell_type": "code",
   "execution_count": 1,
   "metadata": {},
   "outputs": [],
   "source": [
    "class Name:\n",
    "    \"name descriptor docs\"\n",
    "    def __get__(self, instance, owner):\n",
    "        print('fetch...')\n",
    "        return instance._name\n",
    "    def __set__(self, instance, value):\n",
    "        print('change...')\n",
    "        instance._name = value\n",
    "    def __delete__(self, instance):\n",
    "        print('remove...')\n",
    "        del instance._name"
   ]
  },
  {
   "cell_type": "code",
   "execution_count": 2,
   "metadata": {},
   "outputs": [],
   "source": [
    "class Person:\n",
    "    def __init__(self, name):\n",
    "        self._name = name\n",
    "    name = Name()"
   ]
  },
  {
   "cell_type": "code",
   "execution_count": 3,
   "metadata": {},
   "outputs": [],
   "source": [
    "bob = Person('Bob Smith')"
   ]
  },
  {
   "cell_type": "code",
   "execution_count": 4,
   "metadata": {},
   "outputs": [
    {
     "name": "stdout",
     "output_type": "stream",
     "text": [
      "fetch...\n"
     ]
    },
    {
     "data": {
      "text/plain": [
       "'Bob Smith'"
      ]
     },
     "execution_count": 4,
     "metadata": {},
     "output_type": "execute_result"
    }
   ],
   "source": [
    "bob.name"
   ]
  },
  {
   "cell_type": "code",
   "execution_count": 5,
   "metadata": {},
   "outputs": [
    {
     "name": "stdout",
     "output_type": "stream",
     "text": [
      "change...\n"
     ]
    }
   ],
   "source": [
    "bob.name = 'Robert Smith'"
   ]
  },
  {
   "cell_type": "code",
   "execution_count": 7,
   "metadata": {},
   "outputs": [
    {
     "name": "stdout",
     "output_type": "stream",
     "text": [
      "fetch...\n"
     ]
    },
    {
     "data": {
      "text/plain": [
       "'Robert Smith'"
      ]
     },
     "execution_count": 7,
     "metadata": {},
     "output_type": "execute_result"
    }
   ],
   "source": [
    "bob.name"
   ]
  },
  {
   "cell_type": "code",
   "execution_count": 9,
   "metadata": {},
   "outputs": [
    {
     "name": "stdout",
     "output_type": "stream",
     "text": [
      "remove...\n"
     ]
    }
   ],
   "source": [
    "del bob.name"
   ]
  },
  {
   "cell_type": "code",
   "execution_count": 10,
   "metadata": {},
   "outputs": [],
   "source": [
    "sue = Person('Sue Jones')"
   ]
  },
  {
   "cell_type": "code",
   "execution_count": 11,
   "metadata": {},
   "outputs": [
    {
     "name": "stdout",
     "output_type": "stream",
     "text": [
      "fetch...\n"
     ]
    },
    {
     "data": {
      "text/plain": [
       "'Sue Jones'"
      ]
     },
     "execution_count": 11,
     "metadata": {},
     "output_type": "execute_result"
    }
   ],
   "source": [
    "sue.name"
   ]
  },
  {
   "cell_type": "code",
   "execution_count": 12,
   "metadata": {},
   "outputs": [
    {
     "data": {
      "text/plain": [
       "'name descriptor docs'"
      ]
     },
     "execution_count": 12,
     "metadata": {},
     "output_type": "execute_result"
    }
   ],
   "source": [
    "Name.__doc__"
   ]
  },
  {
   "cell_type": "code",
   "execution_count": 13,
   "metadata": {},
   "outputs": [],
   "source": [
    "class Person:\n",
    "    def __init__(self, name):\n",
    "        self._name = name\n",
    "\n",
    "    class Name:\n",
    "        \"name descriptor docs\"\n",
    "        def __get__(self, instance, owner):\n",
    "            print('fetch...')\n",
    "            return instance._name\n",
    "        def __set__(self, instance, value):\n",
    "            print('change...')\n",
    "            instance._name = value\n",
    "        def __delete__(self, instance):\n",
    "            print('remove...')\n",
    "            del instance._name\n",
    "\n",
    "    name = Name()"
   ]
  },
  {
   "cell_type": "markdown",
   "metadata": {},
   "source": [
    "## COMPUTED ATTRIBUTES"
   ]
  },
  {
   "cell_type": "code",
   "execution_count": 15,
   "metadata": {},
   "outputs": [],
   "source": [
    "class DescSquare:\n",
    "    def __init__(self, start): # Each desc has own state\n",
    "        self.value = start\n",
    "    def __get__(self, instance, owner): # On attr fetch\n",
    "        return self.value ** 2\n",
    "    def __set__(self, instance, value): # On attr assign\n",
    "        self.value = value # No delete or docs"
   ]
  },
  {
   "cell_type": "code",
   "execution_count": 16,
   "metadata": {},
   "outputs": [],
   "source": [
    "class Client1:\n",
    "    X = DescSquare(3) "
   ]
  },
  {
   "cell_type": "code",
   "execution_count": 19,
   "metadata": {},
   "outputs": [],
   "source": [
    "class Client2:\n",
    "    X = DescSquare(32) "
   ]
  },
  {
   "cell_type": "code",
   "execution_count": 20,
   "metadata": {},
   "outputs": [],
   "source": [
    "c1 = Client1()"
   ]
  },
  {
   "cell_type": "code",
   "execution_count": 22,
   "metadata": {},
   "outputs": [],
   "source": [
    "c2 = Client2()"
   ]
  },
  {
   "cell_type": "code",
   "execution_count": 25,
   "metadata": {},
   "outputs": [
    {
     "data": {
      "text/plain": [
       "16"
      ]
     },
     "execution_count": 25,
     "metadata": {},
     "output_type": "execute_result"
    }
   ],
   "source": [
    "c1.X"
   ]
  },
  {
   "cell_type": "code",
   "execution_count": 26,
   "metadata": {},
   "outputs": [
    {
     "data": {
      "text/plain": [
       "1024"
      ]
     },
     "execution_count": 26,
     "metadata": {},
     "output_type": "execute_result"
    }
   ],
   "source": [
    "c2.X"
   ]
  },
  {
   "cell_type": "markdown",
   "metadata": {},
   "source": [
    "## USING STATE INFORMATION IN DESCRIPTORS"
   ]
  },
  {
   "cell_type": "code",
   "execution_count": 1,
   "metadata": {},
   "outputs": [],
   "source": [
    "class DescState:\r\n",
    "    def __init__(self, value):\r\n",
    "        self.value = value\r\n",
    "    def __get__(self, instance, owner):\r\n",
    "        print('DescState get')\r\n",
    "        return self.value * 10\r\n",
    "    def __set__(self, instance, value):\r\n",
    "        print('DescState set')\r\n",
    "        self.value = value"
   ]
  },
  {
   "cell_type": "code",
   "execution_count": 2,
   "metadata": {},
   "outputs": [],
   "source": [
    "class CalcAttrs:\r\n",
    "    X = DescState(2)\r\n",
    "    Y = 3\r\n",
    "    def __init__(self):\r\n",
    "        self.Z = 4"
   ]
  },
  {
   "cell_type": "code",
   "execution_count": 3,
   "metadata": {},
   "outputs": [],
   "source": [
    "obj = CalcAttrs()"
   ]
  },
  {
   "cell_type": "code",
   "execution_count": 4,
   "metadata": {},
   "outputs": [
    {
     "name": "stdout",
     "output_type": "stream",
     "text": [
      "DescState get\n"
     ]
    },
    {
     "data": {
      "text/plain": [
       "(20, 3, 4)"
      ]
     },
     "execution_count": 4,
     "metadata": {},
     "output_type": "execute_result"
    }
   ],
   "source": [
    "obj.X, obj.Y, obj.Z"
   ]
  },
  {
   "cell_type": "code",
   "execution_count": 5,
   "metadata": {},
   "outputs": [
    {
     "name": "stdout",
     "output_type": "stream",
     "text": [
      "DescState set\n"
     ]
    }
   ],
   "source": [
    "obj.X = 5"
   ]
  },
  {
   "cell_type": "code",
   "execution_count": 6,
   "metadata": {},
   "outputs": [],
   "source": [
    "CalcAttrs.Y = 6"
   ]
  },
  {
   "cell_type": "code",
   "execution_count": 7,
   "metadata": {},
   "outputs": [],
   "source": [
    "obj.Z = 7"
   ]
  },
  {
   "cell_type": "code",
   "execution_count": 8,
   "metadata": {},
   "outputs": [
    {
     "name": "stdout",
     "output_type": "stream",
     "text": [
      "DescState get\n"
     ]
    },
    {
     "data": {
      "text/plain": [
       "(50, 6, 7)"
      ]
     },
     "execution_count": 8,
     "metadata": {},
     "output_type": "execute_result"
    }
   ],
   "source": [
    "obj.X, obj.Y, obj.Z"
   ]
  },
  {
   "cell_type": "code",
   "execution_count": 9,
   "metadata": {},
   "outputs": [],
   "source": [
    "obj2 = CalcAttrs()"
   ]
  },
  {
   "cell_type": "code",
   "execution_count": 10,
   "metadata": {},
   "outputs": [
    {
     "name": "stdout",
     "output_type": "stream",
     "text": [
      "DescState get\n"
     ]
    },
    {
     "data": {
      "text/plain": [
       "(50, 6, 4)"
      ]
     },
     "execution_count": 10,
     "metadata": {},
     "output_type": "execute_result"
    }
   ],
   "source": [
    "\r\n",
    "obj2.X, obj2.Y, obj2.Z"
   ]
  },
  {
   "cell_type": "code",
   "execution_count": 6,
   "metadata": {},
   "outputs": [],
   "source": [
    "class InsState:\n",
    "    def __get__(self, instance, owner):\n",
    "        print('InstState get')\n",
    "        return instance.X * 10\n",
    "    def __set__(self, instance, value):\n",
    "        print('InstState set')\n",
    "        instance._X = value"
   ]
  },
  {
   "cell_type": "code",
   "execution_count": 7,
   "metadata": {},
   "outputs": [],
   "source": [
    "class CalcAttrs:\n",
    "    X = InsState()\n",
    "    Y = 3\n",
    "    def __init__(self):\n",
    "        self.X = 2\n",
    "        self.Z = 4"
   ]
  },
  {
   "cell_type": "code",
   "execution_count": 8,
   "metadata": {},
   "outputs": [
    {
     "name": "stdout",
     "output_type": "stream",
     "text": [
      "InstState set\n"
     ]
    }
   ],
   "source": [
    "obj = CalcAttrs()"
   ]
  },
  {
   "cell_type": "code",
   "execution_count": 9,
   "metadata": {},
   "outputs": [],
   "source": [
    "obj.X, obj.Y, obj.Z"
   ]
  },
  {
   "cell_type": "code",
   "execution_count": 1,
   "metadata": {},
   "outputs": [],
   "source": [
    "class DescBoth:\r\n",
    "    def __init__(self, data):\r\n",
    "        self.data = data\r\n",
    "    def __get__(self, instance, onew):\r\n",
    "        return '%s, %s' % (self.data, instance.data)\r\n",
    "    def __set__(self, instance, value):\r\n",
    "        instance.data = value"
   ]
  },
  {
   "cell_type": "code",
   "execution_count": 3,
   "metadata": {},
   "outputs": [],
   "source": [
    "class Client:\r\n",
    "    def __init__(self, data):\r\n",
    "        self.data = data\r\n",
    "    managed = DescBoth('spam')"
   ]
  },
  {
   "cell_type": "code",
   "execution_count": 4,
   "metadata": {},
   "outputs": [],
   "source": [
    "I = Client('eggs')"
   ]
  },
  {
   "cell_type": "code",
   "execution_count": 5,
   "metadata": {},
   "outputs": [
    {
     "data": {
      "text/plain": "'spam, eggs'"
     },
     "execution_count": 5,
     "metadata": {},
     "output_type": "execute_result"
    }
   ],
   "source": [
    "I.managed"
   ]
  },
  {
   "cell_type": "code",
   "execution_count": 6,
   "metadata": {},
   "outputs": [],
   "source": [
    "I.managed = 'SPAM'"
   ]
  },
  {
   "cell_type": "code",
   "execution_count": 7,
   "metadata": {},
   "outputs": [
    {
     "data": {
      "text/plain": "'spam, SPAM'"
     },
     "execution_count": 7,
     "metadata": {},
     "output_type": "execute_result"
    }
   ],
   "source": [
    "I.managed"
   ]
  },
  {
   "cell_type": "code",
   "execution_count": 9,
   "metadata": {},
   "outputs": [
    {
     "data": {
      "text/plain": "{'data': 'SPAM'}"
     },
     "execution_count": 9,
     "metadata": {},
     "output_type": "execute_result"
    }
   ],
   "source": [
    "I.__dict__"
   ]
  },
  {
   "cell_type": "code",
   "execution_count": 11,
   "metadata": {},
   "outputs": [
    {
     "data": {
      "text/plain": "['data', 'managed']"
     },
     "execution_count": 11,
     "metadata": {},
     "output_type": "execute_result"
    }
   ],
   "source": [
    "[x for x in dir(I) if not x.startswith('__')]"
   ]
  },
  {
   "cell_type": "code",
   "execution_count": 12,
   "metadata": {},
   "outputs": [
    {
     "data": {
      "text/plain": "'SPAM'"
     },
     "execution_count": 12,
     "metadata": {},
     "output_type": "execute_result"
    }
   ],
   "source": [
    "getattr(I, 'data')"
   ]
  },
  {
   "cell_type": "code",
   "execution_count": 13,
   "metadata": {},
   "outputs": [
    {
     "data": {
      "text/plain": "'spam, SPAM'"
     },
     "execution_count": 13,
     "metadata": {},
     "output_type": "execute_result"
    }
   ],
   "source": [
    "getattr(I, 'managed')"
   ]
  },
  {
   "cell_type": "code",
   "execution_count": 14,
   "metadata": {},
   "outputs": [
    {
     "name": "stdout",
     "output_type": "stream",
     "text": [
      "data => SPAM\n",
      "managed => spam, SPAM\n"
     ]
    }
   ],
   "source": [
    "for attr in (x for x in dir(I) if not x.startswith('__')):\r\n",
    "    print('%s => %s' % (attr, getattr(I, attr)))"
   ]
  },
  {
   "cell_type": "markdown",
   "metadata": {},
   "source": [
    "## HOW PROPERTIRES AND DESCRIPTORS RELATE "
   ]
  },
  {
   "cell_type": "code",
   "execution_count": 106,
   "metadata": {},
   "outputs": [],
   "source": [
    "class Property:\r\n",
    "    def __init__(self, fget=None, fset=None, fdel=None, doc=None):\r\n",
    "        self.fget = fget\r\n",
    "        self.fset = fset\r\n",
    "        self.fdel = fdel \r\n",
    "        self.__doc__ = doc\r\n",
    "\r\n",
    "    def __get__(self, instance, instancetype=None):\r\n",
    "        if instance is None:\r\n",
    "            return self\r\n",
    "        if self.fget is None:\r\n",
    "            raise AttributeError(\"can't get attribute\")\r\n",
    "        return self.fget(instance)\r\n",
    "\r\n",
    "    def __set__(self, instance, value):\r\n",
    "        if self.fset is None:\r\n",
    "            raise AttributeError(\"can't set attribute\")\r\n",
    "        self.fset(instance, value)\r\n",
    "\r\n",
    "    def __delete__(self, instance):\r\n",
    "        if self.fdel is None:\r\n",
    "            raise AttributeError(\"can't delete attribute\")\r\n",
    "        self.fdel(instance)"
   ]
  },
  {
   "cell_type": "code",
   "execution_count": 107,
   "metadata": {},
   "outputs": [],
   "source": [
    "class Person:\r\n",
    "    def getName(self): print('getName...')\r\n",
    "    def setName(self, value): print('setName...')\r\n",
    "    name = Property(getName, setName)"
   ]
  },
  {
   "cell_type": "code",
   "execution_count": 108,
   "metadata": {},
   "outputs": [],
   "source": [
    "x = Person()"
   ]
  },
  {
   "cell_type": "code",
   "execution_count": 109,
   "metadata": {},
   "outputs": [
    {
     "name": "stdout",
     "output_type": "stream",
     "text": [
      "getName...\n"
     ]
    }
   ],
   "source": [
    "x.name"
   ]
  },
  {
   "cell_type": "code",
   "execution_count": 110,
   "metadata": {},
   "outputs": [
    {
     "name": "stdout",
     "output_type": "stream",
     "text": [
      "setName...\n"
     ]
    }
   ],
   "source": [
    "x.name = 'Bob'"
   ]
  },
  {
   "cell_type": "code",
   "execution_count": 111,
   "metadata": {},
   "outputs": [
    {
     "name": "stdout",
     "output_type": "stream",
     "text": [
      "getName...\n"
     ]
    }
   ],
   "source": [
    "x.name"
   ]
  },
  {
   "cell_type": "code",
   "execution_count": 105,
   "metadata": {},
   "outputs": [
    {
     "ename": "AttributeError",
     "evalue": "can't delete attribute",
     "output_type": "error",
     "traceback": [
      "\u001b[1;31m---------------------------------------------------------------------------\u001b[0m",
      "\u001b[1;31mAttributeError\u001b[0m                            Traceback (most recent call last)",
      "\u001b[1;32m<ipython-input-105-00aea1ecbff2>\u001b[0m in \u001b[0;36m<module>\u001b[1;34m\u001b[0m\n\u001b[1;32m----> 1\u001b[1;33m \u001b[1;32mdel\u001b[0m \u001b[0mx\u001b[0m\u001b[1;33m.\u001b[0m\u001b[0mname\u001b[0m\u001b[1;33m\u001b[0m\u001b[1;33m\u001b[0m\u001b[0m\n\u001b[0m",
      "\u001b[1;32m<ipython-input-99-9c4707d57af8>\u001b[0m in \u001b[0;36m__delete__\u001b[1;34m(self, instance)\u001b[0m\n\u001b[0;32m     21\u001b[0m     \u001b[1;32mdef\u001b[0m \u001b[0m__delete__\u001b[0m\u001b[1;33m(\u001b[0m\u001b[0mself\u001b[0m\u001b[1;33m,\u001b[0m \u001b[0minstance\u001b[0m\u001b[1;33m)\u001b[0m\u001b[1;33m:\u001b[0m\u001b[1;33m\u001b[0m\u001b[1;33m\u001b[0m\u001b[0m\n\u001b[0;32m     22\u001b[0m         \u001b[1;32mif\u001b[0m \u001b[0mself\u001b[0m\u001b[1;33m.\u001b[0m\u001b[0mfdel\u001b[0m \u001b[1;32mis\u001b[0m \u001b[1;32mNone\u001b[0m\u001b[1;33m:\u001b[0m\u001b[1;33m\u001b[0m\u001b[1;33m\u001b[0m\u001b[0m\n\u001b[1;32m---> 23\u001b[1;33m             \u001b[1;32mraise\u001b[0m \u001b[0mAttributeError\u001b[0m\u001b[1;33m(\u001b[0m\u001b[1;34m\"can't delete attribute\"\u001b[0m\u001b[1;33m)\u001b[0m\u001b[1;33m\u001b[0m\u001b[1;33m\u001b[0m\u001b[0m\n\u001b[0m\u001b[0;32m     24\u001b[0m         \u001b[0mself\u001b[0m\u001b[1;33m.\u001b[0m\u001b[0mfdel\u001b[0m\u001b[1;33m(\u001b[0m\u001b[0minstance\u001b[0m\u001b[1;33m)\u001b[0m\u001b[1;33m\u001b[0m\u001b[1;33m\u001b[0m\u001b[0m\n",
      "\u001b[1;31mAttributeError\u001b[0m: can't delete attribute"
     ]
    }
   ],
   "source": [
    "del x.name"
   ]
  },
  {
   "cell_type": "markdown",
   "metadata": {},
   "source": [
    " ## \\_\\_getattr__ AND \\_\\_getattribute__"
   ]
  },
  {
   "cell_type": "code",
   "execution_count": 114,
   "metadata": {},
   "outputs": [],
   "source": [
    "class Catcher:\r\n",
    "    def __getattr__(self, name):\r\n",
    "        print(f'Get: {name}')\r\n",
    "    def __setattr__(self, name, value):\r\n",
    "        print(f'Set {name} {value}')"
   ]
  },
  {
   "cell_type": "code",
   "execution_count": 115,
   "metadata": {},
   "outputs": [],
   "source": [
    "X = Catcher()"
   ]
  },
  {
   "cell_type": "code",
   "execution_count": 116,
   "metadata": {},
   "outputs": [
    {
     "name": "stdout",
     "output_type": "stream",
     "text": [
      "Get: job\n"
     ]
    }
   ],
   "source": [
    "X.job"
   ]
  },
  {
   "cell_type": "code",
   "execution_count": 117,
   "metadata": {},
   "outputs": [
    {
     "name": "stdout",
     "output_type": "stream",
     "text": [
      "Get: pay\n"
     ]
    }
   ],
   "source": [
    "X.pay"
   ]
  },
  {
   "cell_type": "code",
   "execution_count": 118,
   "metadata": {},
   "outputs": [
    {
     "name": "stdout",
     "output_type": "stream",
     "text": [
      "Set pay 99\n"
     ]
    }
   ],
   "source": [
    "X.pay = 99"
   ]
  },
  {
   "cell_type": "code",
   "execution_count": 120,
   "metadata": {},
   "outputs": [],
   "source": [
    "class Wrapper:\r\n",
    "    def __init__(self, objetct):\r\n",
    "        self.wrapper = objetct\r\n",
    "    def __getattr__(self, attrname):\r\n",
    "        print('Trace:', attrname)\r\n",
    "        return getattr(self.wrapper, attrname)"
   ]
  },
  {
   "cell_type": "code",
   "execution_count": 121,
   "metadata": {},
   "outputs": [],
   "source": [
    "X = Wrapper([1, 2, 3])"
   ]
  },
  {
   "cell_type": "code",
   "execution_count": 122,
   "metadata": {},
   "outputs": [
    {
     "name": "stdout",
     "output_type": "stream",
     "text": [
      "Trace: append\n"
     ]
    }
   ],
   "source": [
    "X.append((4))"
   ]
  },
  {
   "cell_type": "code",
   "execution_count": 124,
   "metadata": {},
   "outputs": [
    {
     "data": {
      "text/plain": "[1, 2, 3, 4]"
     },
     "execution_count": 124,
     "metadata": {},
     "output_type": "execute_result"
    }
   ],
   "source": [
    "X.wrapper"
   ]
  },
  {
   "cell_type": "code",
   "execution_count": 127,
   "metadata": {},
   "outputs": [
    {
     "data": {
      "text/plain": "2"
     },
     "execution_count": 127,
     "metadata": {},
     "output_type": "execute_result"
    }
   ],
   "source": [
    "X.wrapper[1]"
   ]
  },
  {
   "cell_type": "markdown",
   "metadata": {},
   "source": [
    "## FIRST EXAMPLE"
   ]
  },
  {
   "cell_type": "code",
   "execution_count": 130,
   "metadata": {},
   "outputs": [],
   "source": [
    "class Person:\r\n",
    "    def __init__(self, name):\r\n",
    "        self._name = name\r\n",
    "\r\n",
    "    def __getattr__(self, attr): \r\n",
    "        print('get: ' + attr)\r\n",
    "        if attr == 'name': \r\n",
    "            return self._name\r\n",
    "        else:\r\n",
    "            raise AttributeError(attr)\r\n",
    "    def __setattr__(self, attr, value):\r\n",
    "        print('set: ' + attr)\r\n",
    "        if attr == 'name':\r\n",
    "            attr = '_name' \r\n",
    "        self.__dict__[attr] = value \r\n",
    "\r\n",
    "    def __delattr__(self, attr): \r\n",
    "        print('del: ' + attr)\r\n",
    "        if attr == 'name':\r\n",
    "            attr = '_name' \r\n",
    "        attr = '_name' "
   ]
  },
  {
   "cell_type": "code",
   "execution_count": 131,
   "metadata": {},
   "outputs": [
    {
     "name": "stdout",
     "output_type": "stream",
     "text": [
      "set: _name\n"
     ]
    }
   ],
   "source": [
    "bob = Person('Bob Smith') "
   ]
  },
  {
   "cell_type": "code",
   "execution_count": 133,
   "metadata": {},
   "outputs": [
    {
     "name": "stdout",
     "output_type": "stream",
     "text": [
      "get: name\n"
     ]
    },
    {
     "data": {
      "text/plain": "'Bob Smith'"
     },
     "execution_count": 133,
     "metadata": {},
     "output_type": "execute_result"
    }
   ],
   "source": [
    "bob.name"
   ]
  },
  {
   "cell_type": "code",
   "execution_count": 134,
   "metadata": {},
   "outputs": [
    {
     "name": "stdout",
     "output_type": "stream",
     "text": [
      "set: name\n"
     ]
    }
   ],
   "source": [
    "bob.name = 'Robert Smith' "
   ]
  },
  {
   "cell_type": "code",
   "execution_count": 135,
   "metadata": {},
   "outputs": [
    {
     "name": "stdout",
     "output_type": "stream",
     "text": [
      "get: name\n"
     ]
    },
    {
     "data": {
      "text/plain": "'Robert Smith'"
     },
     "execution_count": 135,
     "metadata": {},
     "output_type": "execute_result"
    }
   ],
   "source": [
    "bob.name"
   ]
  },
  {
   "cell_type": "code",
   "execution_count": 136,
   "metadata": {},
   "outputs": [
    {
     "name": "stdout",
     "output_type": "stream",
     "text": [
      "del: name\n"
     ]
    }
   ],
   "source": [
    "del bob.name"
   ]
  },
  {
   "cell_type": "markdown",
   "metadata": {},
   "source": [
    "## COMPUTED ATTRIBUTES"
   ]
  },
  {
   "cell_type": "code",
   "execution_count": 16,
   "metadata": {},
   "outputs": [],
   "source": [
    "class AttrSquare:\r\n",
    "    def __init__(self, start):\r\n",
    "        self.value = start\r\n",
    "\r\n",
    "    def __getattr__(self, attr):\r\n",
    "        if attr == 'X':\r\n",
    "            return self.value ** 2\r\n",
    "        else:\r\n",
    "            raise AttributeError(attr)\r\n",
    "\r\n",
    "    def __setattr__(self, attr: str, value: int) -> None:\r\n",
    "        if attr == 'X':\r\n",
    "            attr = 'value'\r\n",
    "        self.__dict__[attr] = value"
   ]
  },
  {
   "cell_type": "code",
   "execution_count": 17,
   "metadata": {},
   "outputs": [],
   "source": [
    "A = AttrSquare(3)"
   ]
  },
  {
   "cell_type": "code",
   "execution_count": 18,
   "metadata": {},
   "outputs": [],
   "source": [
    "B = AttrSquare(32)"
   ]
  },
  {
   "cell_type": "code",
   "execution_count": 19,
   "metadata": {},
   "outputs": [
    {
     "data": {
      "text/plain": "9"
     },
     "execution_count": 19,
     "metadata": {},
     "output_type": "execute_result"
    }
   ],
   "source": [
    "A.X"
   ]
  },
  {
   "cell_type": "code",
   "execution_count": 21,
   "metadata": {},
   "outputs": [],
   "source": [
    "A.X = 4"
   ]
  },
  {
   "cell_type": "code",
   "execution_count": 22,
   "metadata": {},
   "outputs": [
    {
     "data": {
      "text/plain": "16"
     },
     "execution_count": 22,
     "metadata": {},
     "output_type": "execute_result"
    }
   ],
   "source": [
    "A.X"
   ]
  },
  {
   "cell_type": "code",
   "execution_count": 23,
   "metadata": {},
   "outputs": [
    {
     "data": {
      "text/plain": "4"
     },
     "execution_count": 23,
     "metadata": {},
     "output_type": "execute_result"
    }
   ],
   "source": [
    "A.value"
   ]
  },
  {
   "cell_type": "code",
   "execution_count": 24,
   "metadata": {},
   "outputs": [
    {
     "data": {
      "text/plain": "1024"
     },
     "execution_count": 24,
     "metadata": {},
     "output_type": "execute_result"
    }
   ],
   "source": [
    "B.X"
   ]
  },
  {
   "cell_type": "markdown",
   "metadata": {},
   "source": [
    "## USING \\_\\_getattribute__"
   ]
  },
  {
   "cell_type": "code",
   "execution_count": 30,
   "metadata": {},
   "outputs": [],
   "source": [
    "class AttrSquare:\r\n",
    "    def __init__(self, start):\r\n",
    "        self.value = start\r\n",
    "\r\n",
    "    def __getattribute__(self, attr):\r\n",
    "        if attr == 'X':\r\n",
    "            return self.value ** 2\r\n",
    "        else:\r\n",
    "            return object.__getattribute__(self, attr)\r\n",
    "\r\n",
    "    def __setattr__(self, attr, value):\r\n",
    "        if attr == 'X':\r\n",
    "            attr = 'value'\r\n",
    "        object.__setattr__(self, attr, value)"
   ]
  },
  {
   "cell_type": "markdown",
   "metadata": {},
   "source": [
    "## MANAGEMENT TECHNIQUES COMPARED"
   ]
  },
  {
   "cell_type": "code",
   "execution_count": 31,
   "metadata": {},
   "outputs": [],
   "source": [
    "class Powers(object):\r\n",
    "    def __init__(self, square, cube):\r\n",
    "        self._square = square\r\n",
    "        self._cube = cube\r\n",
    "\r\n",
    "    def getSquare(self):\r\n",
    "        return self._square ** 2\r\n",
    "    \r\n",
    "    def setSquare(self, value):\r\n",
    "        self._square = value\r\n",
    "\r\n",
    "    square = property(getSquare, setSquare)\r\n",
    "\r\n",
    "    def getCube(self):\r\n",
    "        return self._cube ** 3\r\n",
    "\r\n",
    "    cube = property(getCube)"
   ]
  },
  {
   "cell_type": "code",
   "execution_count": 32,
   "metadata": {},
   "outputs": [],
   "source": [
    "X = Powers(3, 4)"
   ]
  },
  {
   "cell_type": "code",
   "execution_count": 33,
   "metadata": {},
   "outputs": [
    {
     "data": {
      "text/plain": "9"
     },
     "execution_count": 33,
     "metadata": {},
     "output_type": "execute_result"
    }
   ],
   "source": [
    "X.square"
   ]
  },
  {
   "cell_type": "code",
   "execution_count": 34,
   "metadata": {},
   "outputs": [],
   "source": [
    "X.square = 5"
   ]
  },
  {
   "cell_type": "code",
   "execution_count": 35,
   "metadata": {},
   "outputs": [
    {
     "data": {
      "text/plain": "25"
     },
     "execution_count": 35,
     "metadata": {},
     "output_type": "execute_result"
    }
   ],
   "source": [
    "X.square"
   ]
  },
  {
   "cell_type": "code",
   "execution_count": 36,
   "metadata": {},
   "outputs": [],
   "source": [
    "class DescSquare(object):\r\n",
    "    def __get__(self, instance, owner):\r\n",
    "        return instance._square ** 2\r\n",
    "    def __set__(self, instance, value):\r\n",
    "        instance._square = value\r\n",
    "\r\n",
    "class DescCube(object):\r\n",
    "    def __get__(self, instance, owner):\r\n",
    "        return instance._cube ** 3\r\n",
    "\r\n",
    "class Powers(object):\r\n",
    "    square = DescSquare()\r\n",
    "    cube = DescCube()\r\n",
    "    def __init__(self, square, cube):\r\n",
    "        self._square = square\r\n",
    "        self._cube = cube"
   ]
  },
  {
   "cell_type": "code",
   "execution_count": 37,
   "metadata": {},
   "outputs": [],
   "source": [
    "X = Powers(3, 4)"
   ]
  },
  {
   "cell_type": "code",
   "execution_count": 38,
   "metadata": {},
   "outputs": [
    {
     "data": {
      "text/plain": "9"
     },
     "execution_count": 38,
     "metadata": {},
     "output_type": "execute_result"
    }
   ],
   "source": [
    "X.square"
   ]
  },
  {
   "cell_type": "code",
   "execution_count": 39,
   "metadata": {},
   "outputs": [],
   "source": [
    "X.square = 5"
   ]
  },
  {
   "cell_type": "code",
   "execution_count": 40,
   "metadata": {},
   "outputs": [
    {
     "data": {
      "text/plain": "25"
     },
     "execution_count": 40,
     "metadata": {},
     "output_type": "execute_result"
    }
   ],
   "source": [
    "X.square"
   ]
  },
  {
   "cell_type": "code",
   "execution_count": 41,
   "metadata": {},
   "outputs": [],
   "source": [
    "class Powers:\r\n",
    "    def __init__(self, square, cube):\r\n",
    "        self._square = square\r\n",
    "        self._cube = cube\r\n",
    "\r\n",
    "    def __getattr__(self, name):\r\n",
    "        if name == 'square':\r\n",
    "            return self._square ** 2\r\n",
    "        elif name == 'cube':\r\n",
    "            return self._cube ** 3\r\n",
    "        else:\r\n",
    "            raise TypeError('unknown attr:' + name)\r\n",
    "\r\n",
    "    def __setattr__(self, name, value):\r\n",
    "        if name == 'square':\r\n",
    "            self.__dict__['_square'] = value\r\n",
    "        else:\r\n",
    "            self.__dict__[name] = value"
   ]
  },
  {
   "cell_type": "code",
   "execution_count": 46,
   "metadata": {},
   "outputs": [],
   "source": [
    "class Powers():\r\n",
    "    def __init__(self, square, cube):\r\n",
    "        self._square = square\r\n",
    "        self._cube = cube\r\n",
    "\r\n",
    "    def __getattribute__(self, name):\r\n",
    "        if name == 'square':\r\n",
    "            return object.__getattribute__(self, '_square') ** 2\r\n",
    "        elif name == 'cube':\r\n",
    "            return object.__getattribute__(self, '_cube') ** 3\r\n",
    "        else:\r\n",
    "            return object.__getattribute__(self, name)\r\n",
    "\r\n",
    "    def __setattr__(self, name, value):\r\n",
    "        if name == 'square':\r\n",
    "            object.__setattr__(self, '_square', value) # Or use __dict__\r\n",
    "        else:\r\n",
    "            object.__setattr__(self, name , value)"
   ]
  },
  {
   "cell_type": "code",
   "execution_count": 47,
   "metadata": {},
   "outputs": [],
   "source": [
    "X = Powers(3, 4)"
   ]
  },
  {
   "cell_type": "code",
   "execution_count": 44,
   "metadata": {},
   "outputs": [
    {
     "data": {
      "text/plain": "3"
     },
     "execution_count": 44,
     "metadata": {},
     "output_type": "execute_result"
    }
   ],
   "source": [
    "X._square"
   ]
  },
  {
   "cell_type": "code",
   "execution_count": 45,
   "metadata": {},
   "outputs": [
    {
     "data": {
      "text/plain": "4"
     },
     "execution_count": 45,
     "metadata": {},
     "output_type": "execute_result"
    }
   ],
   "source": [
    "X._cube"
   ]
  },
  {
   "cell_type": "markdown",
   "metadata": {},
   "source": [
    "## EXAMPLE: ATTRIBUTE VALIDATIONS"
   ]
  },
  {
   "cell_type": "code",
   "execution_count": 1,
   "metadata": {},
   "outputs": [],
   "source": [
    "class CardHolder():\r\n",
    "    acctlen = 8\r\n",
    "    retireage = 59.5\r\n",
    "\r\n",
    "    def __init__(self, acct, name, age, addr):\r\n",
    "        self.acct = acct\r\n",
    "        self.name = name\r\n",
    "        self.age = age\r\n",
    "        self.addr = addr\r\n",
    "\r\n",
    "    def getName(self):\r\n",
    "        return self.__name\r\n",
    "\r\n",
    "    def setName(self, value):\r\n",
    "        value = value.lower().replace(' ', '_')\r\n",
    "        self.__name = value\r\n",
    "\r\n",
    "    name = property(getName, setName)\r\n",
    "\r\n",
    "    def getAge(self):\r\n",
    "        return self.__age\r\n",
    "    def setAge(self, value):\r\n",
    "        if value < 0 or value > 150:\r\n",
    "            raise ValueError('invalid age')\r\n",
    "        else:\r\n",
    "            self.__age = value\r\n",
    "\r\n",
    "    age = property(getAge, setAge)\r\n",
    "\r\n",
    "    def getAcct(self):\r\n",
    "        return self.__acct[:-3] + '***'\r\n",
    "    \r\n",
    "    def setAcct(self, value):\r\n",
    "        value = value.replace('-', '')\r\n",
    "        if len(value) != self.acctlen:\r\n",
    "            raise TypeError('invald acct number')\r\n",
    "        else:\r\n",
    "            self.__acct = value\r\n",
    "\r\n",
    "    acct = property(getAcct, setAcct)\r\n",
    "\r\n",
    "    def remainGet(self):\r\n",
    "        return self.retireage - self.age\r\n",
    "\r\n",
    "    remain = property(remainGet)"
   ]
  },
  {
   "cell_type": "code",
   "execution_count": 2,
   "metadata": {},
   "outputs": [
    {
     "data": {
      "text/plain": "<__main__.CardHolder at 0x2202076af10>"
     },
     "execution_count": 2,
     "metadata": {},
     "output_type": "execute_result"
    }
   ],
   "source": [
    "CardHolder('1234-5678', 'Bob Smith', 40, '123 main st')"
   ]
  },
  {
   "cell_type": "code",
   "execution_count": 3,
   "metadata": {},
   "outputs": [
    {
     "name": "stdout",
     "output_type": "stream",
     "text": [
      "12345*** / bob_smith / 40 / 19.5 / 123 main st\n",
      "23456*** / bob_q._smith / 50 / 9.5 / 123 main st\n",
      "56781*** / sue_jones / 35 / 24.5 / 124 main st\n",
      "Bad age for Sue\n",
      "Can't set sue.remain\n",
      "Bad acct for Sue\n"
     ]
    }
   ],
   "source": [
    "def printholder(who):\r\n",
    "    print(who.acct, who.name, who.age, who.remain, who.addr, sep=' / ')\r\n",
    "\r\n",
    "bob = CardHolder('1234-5678', 'Bob Smith', 40, '123 main st')\r\n",
    "printholder(bob)\r\n",
    "\r\n",
    "bob.name = 'Bob Q. Smith'\r\n",
    "bob.age = 50\r\n",
    "bob.acct = '23-45-67-89'\r\n",
    "printholder(bob)\r\n",
    "\r\n",
    "sue = CardHolder('5678-12-34', 'Sue Jones', 35, '124 main st')\r\n",
    "printholder(sue)\r\n",
    "\r\n",
    "try:\r\n",
    "    sue.age = 200\r\n",
    "except:\r\n",
    "    print('Bad age for Sue')\r\n",
    "\r\n",
    "try:\r\n",
    "    sue.remain = 5\r\n",
    "except:\r\n",
    "    print(\"Can't set sue.remain\")\r\n",
    "try:\r\n",
    "    sue.acct = '1234567'\r\n",
    "except:\r\n",
    "    print('Bad acct for Sue')"
   ]
  },
  {
   "cell_type": "code",
   "execution_count": 9,
   "metadata": {},
   "outputs": [
    {
     "data": {
      "text/plain": "{'_CardHolder__acct': '23456789',\n '_CardHolder__name': 'bob_q._smith',\n '_CardHolder__age': 50,\n 'addr': '123 main st'}"
     },
     "execution_count": 9,
     "metadata": {},
     "output_type": "execute_result"
    }
   ],
   "source": [
    "bob.__dict__"
   ]
  },
  {
   "cell_type": "code",
   "execution_count": 11,
   "metadata": {},
   "outputs": [
    {
     "data": {
      "text/plain": "59.5"
     },
     "execution_count": 11,
     "metadata": {},
     "output_type": "execute_result"
    }
   ],
   "source": [
    "sue.retireage"
   ]
  },
  {
   "cell_type": "code",
   "execution_count": 12,
   "metadata": {},
   "outputs": [
    {
     "data": {
      "text/plain": "59.5"
     },
     "execution_count": 12,
     "metadata": {},
     "output_type": "execute_result"
    }
   ],
   "source": [
    "bob.retireage"
   ]
  },
  {
   "cell_type": "markdown",
   "metadata": {},
   "source": [
    "## USING DESCRIPTORS TO VALIDADE"
   ]
  },
  {
   "cell_type": "code",
   "execution_count": 14,
   "metadata": {},
   "outputs": [],
   "source": [
    "class CardHolder():\r\n",
    "    acctlen = 8\r\n",
    "    retireage = 59.5\r\n",
    "\r\n",
    "    def __init__(self, acct, name, age, addr):\r\n",
    "        self.acct = acct\r\n",
    "        self.name = name\r\n",
    "        self.age = age\r\n",
    "        self.addr = addr\r\n",
    "\r\n",
    "    class Name():\r\n",
    "        def __get__(self, instance, owner):\r\n",
    "            return self.__name\r\n",
    "        def __set__(self, instance, value):\r\n",
    "            value = value.lower().replace(' ', '_')\r\n",
    "            instance.__name = value\r\n",
    "\r\n",
    "    name = Name() \r\n",
    "\r\n",
    "    class Age():\r\n",
    "        def __get__(self, instance, owner):\r\n",
    "            return instance.__age\r\n",
    "        def __set__(self, instance, value):\r\n",
    "            if value < 0 or value > 150:\r\n",
    "                raise ValueError('invalid age')\r\n",
    "            else:\r\n",
    "                instance.__age = value\r\n",
    "\r\n",
    "    age = Age()\r\n",
    "\r\n",
    "    class Acct():\r\n",
    "        def __get__(self, instance, owner):\r\n",
    "            return self.acct[:-3] + '***'\r\n",
    "\r\n",
    "        def __set__(self, instance, value):\r\n",
    "            value = value.replace('-', '')\r\n",
    "            if len(value) != instance.acctlen:\r\n",
    "                raise TypeError('invald acct number')\r\n",
    "            else:\r\n",
    "                instance.__acct = value\r\n",
    "\r\n",
    "    acct = Acct()   \r\n",
    "\r\n",
    "    class Remain():\r\n",
    "        def __get__(self, instance, owner):\r\n",
    "            return instance.retireage - instance.age\r\n",
    "        \r\n",
    "        def __set__(self, instance, value):\r\n",
    "            raise TypeError('cannot set remain')\r\n",
    "\r\n",
    "    remain = Remain()"
   ]
  },
  {
   "cell_type": "markdown",
   "metadata": {},
   "source": [
    "## USING \\_\\_getattr__ TO VALIDADE"
   ]
  },
  {
   "cell_type": "code",
   "execution_count": 15,
   "metadata": {},
   "outputs": [],
   "source": [
    "class CardHolder:\r\n",
    "    acctlen = 8\r\n",
    "    retireage = 59.5\r\n",
    "\r\n",
    "    def __init__(self, acct, name, age, addr):\r\n",
    "        self.acct = acct\r\n",
    "        self.name = name\r\n",
    "        self.age = age\r\n",
    "        self.addr = addr\r\n",
    "\r\n",
    "    def __getattr__(self, name):\r\n",
    "        if name == 'acct':\r\n",
    "            return self._acct[:-3] + '***'\r\n",
    "        elif name == 'remain':\r\n",
    "            return self.retireage - self.age\r\n",
    "        else:\r\n",
    "            raise AttributeError(name)\r\n",
    "\r\n",
    "    def __setattr__(self, name, value):\r\n",
    "        if name == 'name':\r\n",
    "            value = value.lower().replace(' ', '_')\r\n",
    "        elif name == 'age':\r\n",
    "            if value < 0 or value > 150:\r\n",
    "                raise ValueError('invalid age')\r\n",
    "        elif name == 'acct':\r\n",
    "            name = '_acct'\r\n",
    "            value = value.replace('-', '')\r\n",
    "            if len(value) != self.acctlen:\r\n",
    "                raise TypeError('invald acct number')\r\n",
    "        elif name == 'remain':\r\n",
    "            raise TypeError('cannot set remain')\r\n",
    "        \r\n",
    "        self.__dict__[name] = value   "
   ]
  },
  {
   "cell_type": "markdown",
   "metadata": {},
   "source": [
    "## USING \\_\\_getattribute__ TO VALIDADE"
   ]
  },
  {
   "cell_type": "code",
   "execution_count": null,
   "metadata": {},
   "outputs": [],
   "source": [
    "class CardHolder():\r\n",
    "    acctlen = 8\r\n",
    "    retireage = 59.5\r\n",
    "\r\n",
    "    def __init__(self, acct, name, age, addr):\r\n",
    "        self.acct = acct\r\n",
    "        self.name = name\r\n",
    "        self.age = age\r\n",
    "        self.addr = addr\r\n",
    "\r\n",
    "    def __getattribute__(self, name):\r\n",
    "        superget = object.__getattribute__\r\n",
    "        if name == 'acct':\r\n",
    "            return superget(self, 'acct')[:-3] + '***'\r\n",
    "        elif name == 'remain':\r\n",
    "            return superget(self, 'retireage') - superget(self, 'age')\r\n",
    "        else:\r\n",
    "            return superget(self, name)\r\n",
    "        \r\n",
    "    def __setattr__(self, name, value):\r\n",
    "        if name == 'name':\r\n",
    "            value = value.lower().replace(' ', '_')\r\n",
    "        elif name == 'age':\r\n",
    "            if value < 0 or value > 150:\r\n",
    "                raise ValueError('invalid age')\r\n",
    "        elif name == 'acct':\r\n",
    "            value = value.replace('-', '')\r\n",
    "            if len(value) != self.acctlen:\r\n",
    "                raise TypeError('invald acct number')\r\n",
    "            raise TypeError('cannot set remain')\r\n",
    "        self.__dict__[name] = value"
   ]
  }
 ],
 "metadata": {
  "interpreter": {
   "hash": "9d2551a9749556e3c0c1217eb76a7dc61235d18c2a53835cd4577df410224461"
  },
  "kernelspec": {
   "display_name": "Python 3.9.2 64-bit",
   "name": "python3"
  },
  "language_info": {
   "codemirror_mode": {
    "name": "ipython",
    "version": 3
   },
   "file_extension": ".py",
   "mimetype": "text/x-python",
   "name": "python",
   "nbconvert_exporter": "python",
   "pygments_lexer": "ipython3",
   "version": "3.9.2"
  },
  "orig_nbformat": 3
 },
 "nbformat": 4,
 "nbformat_minor": 2
}