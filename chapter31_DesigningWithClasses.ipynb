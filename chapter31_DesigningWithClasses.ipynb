{
 "metadata": {
  "language_info": {
   "codemirror_mode": {
    "name": "ipython",
    "version": 3
   },
   "file_extension": ".py",
   "mimetype": "text/x-python",
   "name": "python",
   "nbconvert_exporter": "python",
   "pygments_lexer": "ipython3",
   "version": "3.8.5-final"
  },
  "orig_nbformat": 2,
  "kernelspec": {
   "name": "python3",
   "display_name": "Python 3",
   "language": "python"
  }
 },
 "nbformat": 4,
 "nbformat_minor": 2,
 "cells": [
  {
   "source": [
    "# CHAPTER 31 - DESIGNING WITH CLASSES"
   ],
   "cell_type": "markdown",
   "metadata": {}
  },
  {
   "source": [
    "### OOP and Inheritance: “Is-a” Relationships"
   ],
   "cell_type": "markdown",
   "metadata": {}
  },
  {
   "cell_type": "code",
   "execution_count": 1,
   "metadata": {},
   "outputs": [],
   "source": [
    "class Employee:\n",
    "    \n",
    "    def __init__(self, name, salary=0):\n",
    "        self.name = name\n",
    "        self.salary = salary\n",
    "\n",
    "    def giveRaise(self, percent):\n",
    "        self.salary = self.salary + (self.salary * percent)\n",
    "\n",
    "    def work(self):\n",
    "        print(self.name, \"does stuff\")\n",
    "\n",
    "    def __repr__(self):\n",
    "        return f\"<Employee: {self.name}, {self.salary}>\""
   ]
  },
  {
   "cell_type": "code",
   "execution_count": 2,
   "metadata": {},
   "outputs": [],
   "source": [
    "class Chef(Employee):\n",
    "    \n",
    "    def __init__(self, name):\n",
    "        Employee.__init__(self, name, 50000)\n",
    "\n",
    "    def work(self):\n",
    "        print(self.name, \"makes food\")"
   ]
  },
  {
   "cell_type": "code",
   "execution_count": 3,
   "metadata": {},
   "outputs": [],
   "source": [
    "class Server(Employee):\n",
    "\n",
    "    def __init__(self, name):\n",
    "        Employee.__init__(self, name, 40000)\n",
    "\n",
    "    def work(self):\n",
    "        print(self.name, \"interfased with customer\")"
   ]
  },
  {
   "cell_type": "code",
   "execution_count": 4,
   "metadata": {},
   "outputs": [],
   "source": [
    "class PizzaRobot(Chef):\n",
    "    \n",
    "    def __init__(self, name):\n",
    "        Chef.__init__(self, name)\n",
    "\n",
    "    def work(self):\n",
    "        print(self.name, \"makes pizza\")"
   ]
  },
  {
   "cell_type": "code",
   "execution_count": 5,
   "metadata": {},
   "outputs": [],
   "source": [
    "bob = PizzaRobot('Bob')"
   ]
  },
  {
   "cell_type": "code",
   "execution_count": 6,
   "metadata": {},
   "outputs": [
    {
     "output_type": "stream",
     "name": "stdout",
     "text": [
      "<Employee: Bob, 50000>\n"
     ]
    }
   ],
   "source": [
    "print(bob)"
   ]
  },
  {
   "cell_type": "code",
   "execution_count": 7,
   "metadata": {},
   "outputs": [
    {
     "output_type": "stream",
     "name": "stdout",
     "text": [
      "Bob makes pizza\n"
     ]
    }
   ],
   "source": [
    "bob.work()"
   ]
  },
  {
   "cell_type": "code",
   "execution_count": 8,
   "metadata": {},
   "outputs": [],
   "source": [
    "bob.giveRaise(0.2)"
   ]
  },
  {
   "cell_type": "code",
   "execution_count": 9,
   "metadata": {},
   "outputs": [
    {
     "output_type": "stream",
     "name": "stdout",
     "text": [
      "<Employee: Bob, 60000.0>\n"
     ]
    }
   ],
   "source": [
    "print(bob)"
   ]
  },
  {
   "cell_type": "code",
   "execution_count": 10,
   "metadata": {},
   "outputs": [
    {
     "output_type": "stream",
     "name": "stdout",
     "text": [
      "Employee does stuff\nChef makes food\nServer interfased with customer\nPizzaRobot makes pizza\n"
     ]
    }
   ],
   "source": [
    "for klass in Employee, Chef, Server, PizzaRobot:\n",
    "    obj = klass(klass.__name__)\n",
    "    obj.work()"
   ]
  },
  {
   "cell_type": "code",
   "execution_count": 11,
   "metadata": {},
   "outputs": [],
   "source": [
    "class Customer:\n",
    "    \n",
    "    def __init__(self, name):\n",
    "        self.name = name\n",
    "    \n",
    "    def order(self, server):\n",
    "        print(self.name, \"orders from\", server)\n",
    "\n",
    "    def pay(self, server):\n",
    "        print(self.name, \"pays for item to\", server)\n",
    "\n"
   ]
  },
  {
   "cell_type": "code",
   "execution_count": 12,
   "metadata": {},
   "outputs": [],
   "source": [
    "class Oven:\n",
    "\n",
    "    def bake(self):\n",
    "        print(\"oven bakes\")"
   ]
  },
  {
   "cell_type": "code",
   "execution_count": 13,
   "metadata": {},
   "outputs": [],
   "source": [
    "class Pizzashop:\n",
    "\n",
    "    def __init__(self):\n",
    "        self.server = Server('Pat')\n",
    "        self.chef   = PizzaRobot('Bob')\n",
    "        self.oven   = Oven()\n",
    "\n",
    "    def order(self, name):\n",
    "        custumer = Customer(name)\n",
    "        custumer.order(self.server)\n",
    "        self.chef.work()\n",
    "        self.oven.bake()\n",
    "        custumer.pay(self.server)"
   ]
  },
  {
   "cell_type": "code",
   "execution_count": 14,
   "metadata": {},
   "outputs": [],
   "source": [
    "scene = Pizzashop()"
   ]
  },
  {
   "cell_type": "code",
   "execution_count": 15,
   "metadata": {},
   "outputs": [
    {
     "output_type": "stream",
     "name": "stdout",
     "text": [
      "Homer orders from <Employee: Pat, 40000>\nBob makes pizza\noven bakes\nHomer pays for item to <Employee: Pat, 40000>\n"
     ]
    }
   ],
   "source": [
    "scene.order('Homer')"
   ]
  },
  {
   "cell_type": "code",
   "execution_count": 16,
   "metadata": {},
   "outputs": [
    {
     "output_type": "stream",
     "name": "stdout",
     "text": [
      "Shaggy orders from <Employee: Pat, 40000>\nBob makes pizza\noven bakes\nShaggy pays for item to <Employee: Pat, 40000>\n"
     ]
    }
   ],
   "source": [
    "scene.order('Shaggy')"
   ]
  },
  {
   "source": [
    "## Stream Processors Revisited"
   ],
   "cell_type": "markdown",
   "metadata": {}
  },
  {
   "cell_type": "code",
   "execution_count": 17,
   "metadata": {},
   "outputs": [],
   "source": [
    "def pricessor(reader, converter, writer):\n",
    "    while True:\n",
    "        data = reader.read()\n",
    "        if not data: break\n",
    "        data = converter(data)\n",
    "        writer.write(data)"
   ]
  },
  {
   "cell_type": "code",
   "execution_count": 18,
   "metadata": {},
   "outputs": [],
   "source": [
    "class Processor:\n",
    "\n",
    "    def __init__(self, reader, writer):\n",
    "        self.reader = reader\n",
    "        self.writer = writer\n",
    "\n",
    "    def process(self):\n",
    "        while True:\n",
    "            data = self.reader.readline()\n",
    "            if not data: break\n",
    "            data = self.converter(data)\n",
    "            self.writer.write(data)\n",
    "\n",
    "    def converter(self, data):\n",
    "        assert False, 'converter must be defined'"
   ]
  },
  {
   "cell_type": "code",
   "execution_count": 19,
   "metadata": {},
   "outputs": [],
   "source": [
    "class Uppercase(Processor):\n",
    "    def converter(self, data):\n",
    "        return data.upper()"
   ]
  },
  {
   "cell_type": "code",
   "execution_count": 20,
   "metadata": {},
   "outputs": [],
   "source": [
    "import sys"
   ]
  },
  {
   "cell_type": "code",
   "execution_count": 21,
   "metadata": {},
   "outputs": [],
   "source": [
    "obj = Uppercase(open('./files/trispam.txt'), sys.stdout)"
   ]
  },
  {
   "cell_type": "code",
   "execution_count": 22,
   "metadata": {},
   "outputs": [
    {
     "output_type": "stream",
     "name": "stdout",
     "text": [
      "SPAM\nSPAM\nSPAM!"
     ]
    }
   ],
   "source": [
    "obj.process()"
   ]
  },
  {
   "cell_type": "code",
   "execution_count": 23,
   "metadata": {},
   "outputs": [],
   "source": [
    "obj = Uppercase(open('./files/trispam.txt'), open('./files/trispamup.txt', 'w'))"
   ]
  },
  {
   "cell_type": "code",
   "execution_count": 24,
   "metadata": {},
   "outputs": [],
   "source": [
    "obj.process()"
   ]
  },
  {
   "cell_type": "code",
   "execution_count": 25,
   "metadata": {},
   "outputs": [],
   "source": [
    "class HTMLize:\n",
    "    def write(self, line):\n",
    "        print(f'<PRE>{line.rstrip()}<PRE>')"
   ]
  },
  {
   "cell_type": "code",
   "execution_count": 26,
   "metadata": {},
   "outputs": [
    {
     "output_type": "stream",
     "name": "stdout",
     "text": [
      "<PRE>SPAM<PRE>\n<PRE>SPAM<PRE>\n<PRE>SPAM!<PRE>\n"
     ]
    }
   ],
   "source": [
    "Uppercase(open('./files/trispam.txt'), HTMLize()).process()"
   ]
  },
  {
   "source": [
    "#### OOP and Delegation: “Wrapper” Proxy Objects"
   ],
   "cell_type": "markdown",
   "metadata": {}
  },
  {
   "cell_type": "code",
   "execution_count": 27,
   "metadata": {},
   "outputs": [],
   "source": [
    "class Wrapper:\n",
    "    def __init__(self, object):\n",
    "        self.wrapped = object\n",
    "    def __getattr__(self, attrname):\n",
    "        print('Trace: ' + attrname)\n",
    "        return getattr(self.wrapped, attrname)"
   ]
  },
  {
   "cell_type": "code",
   "execution_count": 28,
   "metadata": {},
   "outputs": [],
   "source": [
    "x = Wrapper([1, 3, 3])"
   ]
  },
  {
   "cell_type": "code",
   "execution_count": 29,
   "metadata": {
    "tags": []
   },
   "outputs": [
    {
     "output_type": "stream",
     "name": "stdout",
     "text": [
      "Trace: append\n"
     ]
    }
   ],
   "source": [
    "x.append(4)"
   ]
  },
  {
   "cell_type": "code",
   "execution_count": 30,
   "metadata": {},
   "outputs": [
    {
     "output_type": "execute_result",
     "data": {
      "text/plain": [
       "[1, 3, 3, 4]"
      ]
     },
     "metadata": {},
     "execution_count": 30
    }
   ],
   "source": [
    "x.wrapped"
   ]
  },
  {
   "cell_type": "code",
   "execution_count": 31,
   "metadata": {},
   "outputs": [],
   "source": [
    "x = Wrapper({'a': 1, 'b': 2})"
   ]
  },
  {
   "cell_type": "code",
   "execution_count": 32,
   "metadata": {},
   "outputs": [
    {
     "output_type": "stream",
     "name": "stdout",
     "text": [
      "Trace: keys\n"
     ]
    },
    {
     "output_type": "execute_result",
     "data": {
      "text/plain": [
       "['a', 'b']"
      ]
     },
     "metadata": {},
     "execution_count": 32
    }
   ],
   "source": [
    "list(x.keys())"
   ]
  },
  {
   "source": [
    "## Pseudoprivate Class Attributes"
   ],
   "cell_type": "markdown",
   "metadata": {}
  },
  {
   "cell_type": "code",
   "execution_count": 33,
   "metadata": {},
   "outputs": [],
   "source": [
    "class C1:\n",
    "    def meth1(self): self.X = 88\n",
    "    def meth2(self): print(self.X)"
   ]
  },
  {
   "cell_type": "code",
   "execution_count": 34,
   "metadata": {},
   "outputs": [],
   "source": [
    "class C2:\n",
    "    def metha(self): self.X = 99\n",
    "    def methb(self): print(self.X)"
   ]
  },
  {
   "cell_type": "code",
   "execution_count": 35,
   "metadata": {},
   "outputs": [],
   "source": [
    "class C3(C1, C2):\n",
    "    pass"
   ]
  },
  {
   "cell_type": "code",
   "execution_count": 36,
   "metadata": {},
   "outputs": [],
   "source": [
    "I = C3()"
   ]
  },
  {
   "cell_type": "code",
   "execution_count": 37,
   "metadata": {},
   "outputs": [],
   "source": [
    "I.meth1()"
   ]
  },
  {
   "cell_type": "code",
   "execution_count": 38,
   "metadata": {},
   "outputs": [
    {
     "output_type": "stream",
     "name": "stdout",
     "text": [
      "88\n"
     ]
    }
   ],
   "source": [
    "I.meth2()"
   ]
  },
  {
   "cell_type": "code",
   "execution_count": 39,
   "metadata": {},
   "outputs": [],
   "source": [
    "I.metha()"
   ]
  },
  {
   "cell_type": "code",
   "execution_count": 40,
   "metadata": {},
   "outputs": [
    {
     "output_type": "stream",
     "name": "stdout",
     "text": [
      "99\n"
     ]
    }
   ],
   "source": [
    "I.methb()"
   ]
  },
  {
   "cell_type": "code",
   "execution_count": 41,
   "metadata": {},
   "outputs": [
    {
     "output_type": "stream",
     "name": "stdout",
     "text": [
      "99\n"
     ]
    }
   ],
   "source": [
    "I.meth2()"
   ]
  },
  {
   "cell_type": "code",
   "execution_count": 42,
   "metadata": {},
   "outputs": [],
   "source": [
    "class C1:\n",
    "    def meth1(self): self.__X = 88\n",
    "    def meht2(self): print(self.__X)"
   ]
  },
  {
   "cell_type": "code",
   "execution_count": 43,
   "metadata": {},
   "outputs": [],
   "source": [
    "class C2:\n",
    "    def metha(self): self.__X = 99\n",
    "    def methb(self): print(self.__X)"
   ]
  },
  {
   "cell_type": "code",
   "execution_count": 44,
   "metadata": {},
   "outputs": [],
   "source": [
    "class C3(C1, C2): pass"
   ]
  },
  {
   "cell_type": "code",
   "execution_count": 45,
   "metadata": {},
   "outputs": [],
   "source": [
    "I = C3()"
   ]
  },
  {
   "cell_type": "code",
   "execution_count": 46,
   "metadata": {},
   "outputs": [],
   "source": [
    "I.meth1()"
   ]
  },
  {
   "cell_type": "code",
   "execution_count": 47,
   "metadata": {},
   "outputs": [
    {
     "output_type": "stream",
     "name": "stdout",
     "text": [
      "88\n"
     ]
    }
   ],
   "source": [
    "I.meht2()"
   ]
  },
  {
   "cell_type": "code",
   "execution_count": 48,
   "metadata": {},
   "outputs": [],
   "source": [
    "I.metha()"
   ]
  },
  {
   "cell_type": "code",
   "execution_count": 49,
   "metadata": {},
   "outputs": [
    {
     "output_type": "stream",
     "name": "stdout",
     "text": [
      "99\n"
     ]
    }
   ],
   "source": [
    "I.methb()"
   ]
  },
  {
   "cell_type": "code",
   "execution_count": 50,
   "metadata": {},
   "outputs": [
    {
     "output_type": "stream",
     "name": "stdout",
     "text": [
      "88\n"
     ]
    }
   ],
   "source": [
    "I.meht2()"
   ]
  },
  {
   "cell_type": "code",
   "execution_count": 51,
   "metadata": {},
   "outputs": [
    {
     "output_type": "stream",
     "name": "stdout",
     "text": [
      "99\n"
     ]
    }
   ],
   "source": [
    "I.methb()"
   ]
  },
  {
   "cell_type": "code",
   "execution_count": null,
   "metadata": {},
   "outputs": [],
   "source": []
  },
  {
   "source": [
    "## Methods Are Objects: Bound or Unbound"
   ],
   "cell_type": "markdown",
   "metadata": {}
  },
  {
   "cell_type": "code",
   "execution_count": 52,
   "metadata": {},
   "outputs": [],
   "source": [
    "class Spam:\n",
    "    def doit(self,message):\n",
    "        print(message)"
   ]
  },
  {
   "cell_type": "code",
   "execution_count": 53,
   "metadata": {},
   "outputs": [],
   "source": [
    "object1 = Spam()"
   ]
  },
  {
   "cell_type": "code",
   "execution_count": 54,
   "metadata": {},
   "outputs": [
    {
     "output_type": "stream",
     "name": "stdout",
     "text": [
      "Hello world\n"
     ]
    }
   ],
   "source": [
    "object1.doit('Hello world')"
   ]
  },
  {
   "cell_type": "code",
   "execution_count": 55,
   "metadata": {},
   "outputs": [],
   "source": [
    "object1 = Spam()"
   ]
  },
  {
   "cell_type": "code",
   "execution_count": 56,
   "metadata": {},
   "outputs": [],
   "source": [
    "x = object1.doit"
   ]
  },
  {
   "cell_type": "code",
   "execution_count": 57,
   "metadata": {},
   "outputs": [
    {
     "output_type": "stream",
     "name": "stdout",
     "text": [
      "hello word\n"
     ]
    }
   ],
   "source": [
    "x('hello word')"
   ]
  },
  {
   "cell_type": "code",
   "execution_count": 58,
   "metadata": {},
   "outputs": [],
   "source": [
    "object1 = Spam()"
   ]
  },
  {
   "cell_type": "code",
   "execution_count": 59,
   "metadata": {},
   "outputs": [],
   "source": [
    "t = Spam.doit"
   ]
  },
  {
   "cell_type": "code",
   "execution_count": 60,
   "metadata": {},
   "outputs": [
    {
     "output_type": "stream",
     "name": "stdout",
     "text": [
      "howdy\n"
     ]
    }
   ],
   "source": [
    "t(object1, 'howdy')"
   ]
  },
  {
   "cell_type": "code",
   "execution_count": 61,
   "metadata": {},
   "outputs": [],
   "source": [
    "class Eggs:\n",
    "    def m1(self, n):\n",
    "        print(n)\n",
    "    def m2(self):\n",
    "        x = self.m1\n",
    "        x(42)"
   ]
  },
  {
   "cell_type": "code",
   "execution_count": 62,
   "metadata": {},
   "outputs": [
    {
     "output_type": "stream",
     "name": "stdout",
     "text": [
      "42\n"
     ]
    }
   ],
   "source": [
    "Eggs().m2()"
   ]
  },
  {
   "cell_type": "code",
   "execution_count": 63,
   "metadata": {},
   "outputs": [],
   "source": [
    "class Selfless:\n",
    "    def __init__(self, data):\n",
    "        self.data = data\n",
    "    def selfless(arg1, arg2):\n",
    "        return arg1 + arg2\n",
    "    def normal(self, arg1, arg2):\n",
    "        return self.data + arg1 + arg2"
   ]
  },
  {
   "cell_type": "code",
   "execution_count": 64,
   "metadata": {},
   "outputs": [],
   "source": [
    "X = Selfless(2)"
   ]
  },
  {
   "cell_type": "code",
   "execution_count": 65,
   "metadata": {},
   "outputs": [
    {
     "output_type": "execute_result",
     "data": {
      "text/plain": [
       "9"
      ]
     },
     "metadata": {},
     "execution_count": 65
    }
   ],
   "source": [
    "X.normal(3, 4)"
   ]
  },
  {
   "cell_type": "code",
   "execution_count": 66,
   "metadata": {},
   "outputs": [
    {
     "output_type": "execute_result",
     "data": {
      "text/plain": [
       "9"
      ]
     },
     "metadata": {},
     "execution_count": 66
    }
   ],
   "source": [
    "Selfless.normal(X, 3, 4)"
   ]
  },
  {
   "cell_type": "code",
   "execution_count": 67,
   "metadata": {},
   "outputs": [
    {
     "output_type": "execute_result",
     "data": {
      "text/plain": [
       "7"
      ]
     },
     "metadata": {},
     "execution_count": 67
    }
   ],
   "source": [
    "Selfless.selfless(3,4)"
   ]
  },
  {
   "cell_type": "code",
   "execution_count": 70,
   "metadata": {},
   "outputs": [
    {
     "output_type": "error",
     "ename": "TypeError",
     "evalue": "selfless() takes 2 positional arguments but 3 were given",
     "traceback": [
      "\u001b[1;31m---------------------------------------------------------------------------\u001b[0m",
      "\u001b[1;31mTypeError\u001b[0m                                 Traceback (most recent call last)",
      "\u001b[1;32m<ipython-input-70-abf884cf093e>\u001b[0m in \u001b[0;36m<module>\u001b[1;34m\u001b[0m\n\u001b[1;32m----> 1\u001b[1;33m \u001b[0mX\u001b[0m\u001b[1;33m.\u001b[0m\u001b[0mselfless\u001b[0m\u001b[1;33m(\u001b[0m\u001b[1;36m3\u001b[0m\u001b[1;33m,\u001b[0m \u001b[1;36m4\u001b[0m\u001b[1;33m)\u001b[0m\u001b[1;33m\u001b[0m\u001b[1;33m\u001b[0m\u001b[0m\n\u001b[0m",
      "\u001b[1;31mTypeError\u001b[0m: selfless() takes 2 positional arguments but 3 were given"
     ]
    }
   ],
   "source": [
    "X.selfless(3, 4)"
   ]
  },
  {
   "cell_type": "code",
   "execution_count": 69,
   "metadata": {},
   "outputs": [
    {
     "output_type": "error",
     "ename": "TypeError",
     "evalue": "normal() missing 1 required positional argument: 'arg2'",
     "traceback": [
      "\u001b[1;31m---------------------------------------------------------------------------\u001b[0m",
      "\u001b[1;31mTypeError\u001b[0m                                 Traceback (most recent call last)",
      "\u001b[1;32m<ipython-input-69-7f4067e03b4b>\u001b[0m in \u001b[0;36m<module>\u001b[1;34m\u001b[0m\n\u001b[1;32m----> 1\u001b[1;33m \u001b[0mSelfless\u001b[0m\u001b[1;33m.\u001b[0m\u001b[0mnormal\u001b[0m\u001b[1;33m(\u001b[0m\u001b[1;36m3\u001b[0m\u001b[1;33m,\u001b[0m \u001b[1;36m4\u001b[0m\u001b[1;33m)\u001b[0m\u001b[1;33m\u001b[0m\u001b[1;33m\u001b[0m\u001b[0m\n\u001b[0m",
      "\u001b[1;31mTypeError\u001b[0m: normal() missing 1 required positional argument: 'arg2'"
     ]
    }
   ],
   "source": [
    "Selfless.normal(3, 4)"
   ]
  },
  {
   "cell_type": "code",
   "execution_count": 71,
   "metadata": {},
   "outputs": [],
   "source": [
    "class Number:\n",
    "    def __init__(self, base):\n",
    "        self.base = base\n",
    "    def double(self):\n",
    "        return self.base * 2\n",
    "    def triple(self):\n",
    "        return self.base * 3"
   ]
  },
  {
   "cell_type": "code",
   "execution_count": 72,
   "metadata": {},
   "outputs": [],
   "source": [
    "x = Number(2)"
   ]
  },
  {
   "cell_type": "code",
   "execution_count": 73,
   "metadata": {},
   "outputs": [],
   "source": [
    "y = Number(3)"
   ]
  },
  {
   "cell_type": "code",
   "execution_count": 74,
   "metadata": {},
   "outputs": [],
   "source": [
    "z = Number(4)"
   ]
  },
  {
   "cell_type": "code",
   "execution_count": 75,
   "metadata": {},
   "outputs": [
    {
     "output_type": "execute_result",
     "data": {
      "text/plain": [
       "4"
      ]
     },
     "metadata": {},
     "execution_count": 75
    }
   ],
   "source": [
    "x.double()"
   ]
  },
  {
   "cell_type": "code",
   "execution_count": 76,
   "metadata": {},
   "outputs": [],
   "source": [
    "acts = [x.double, y.double, y.triple, z.double]"
   ]
  },
  {
   "cell_type": "code",
   "execution_count": 77,
   "metadata": {},
   "outputs": [
    {
     "output_type": "stream",
     "name": "stdout",
     "text": [
      "4\n6\n9\n8\n"
     ]
    }
   ],
   "source": [
    "for act in acts:\n",
    "    print(act())"
   ]
  },
  {
   "cell_type": "code",
   "execution_count": 78,
   "metadata": {},
   "outputs": [],
   "source": [
    "bound = x.double"
   ]
  },
  {
   "cell_type": "code",
   "execution_count": 79,
   "metadata": {},
   "outputs": [
    {
     "output_type": "execute_result",
     "data": {
      "text/plain": [
       "(<__main__.Number at 0x1f7fa5a2cd0>, <function __main__.Number.double(self)>)"
      ]
     },
     "metadata": {},
     "execution_count": 79
    }
   ],
   "source": [
    "bound.__self__, bound.__func__"
   ]
  },
  {
   "cell_type": "code",
   "execution_count": 80,
   "metadata": {},
   "outputs": [
    {
     "output_type": "execute_result",
     "data": {
      "text/plain": [
       "2"
      ]
     },
     "metadata": {},
     "execution_count": 80
    }
   ],
   "source": [
    "bound.__self__.base"
   ]
  },
  {
   "cell_type": "code",
   "execution_count": 81,
   "metadata": {},
   "outputs": [
    {
     "output_type": "execute_result",
     "data": {
      "text/plain": [
       "4"
      ]
     },
     "metadata": {},
     "execution_count": 81
    }
   ],
   "source": [
    "bound()"
   ]
  },
  {
   "source": [
    "### Other callables"
   ],
   "cell_type": "markdown",
   "metadata": {}
  },
  {
   "cell_type": "code",
   "execution_count": 82,
   "metadata": {},
   "outputs": [],
   "source": [
    "def square(arg):\n",
    "    return arg ** 2"
   ]
  },
  {
   "cell_type": "code",
   "execution_count": 83,
   "metadata": {},
   "outputs": [],
   "source": [
    "class Sum:\n",
    "    def __init__(self, val):\n",
    "        self.val = val\n",
    "    def __call__(self, arg):\n",
    "        return self.val + arg"
   ]
  },
  {
   "cell_type": "code",
   "execution_count": 84,
   "metadata": {},
   "outputs": [],
   "source": [
    "class Product:\n",
    "    def __init__(self, val):\n",
    "        self.val = val\n",
    "    def method(self, arg):\n",
    "        return self.val * arg"
   ]
  },
  {
   "cell_type": "code",
   "execution_count": 85,
   "metadata": {},
   "outputs": [],
   "source": [
    "sobject = Sum(2)"
   ]
  },
  {
   "cell_type": "code",
   "execution_count": 86,
   "metadata": {},
   "outputs": [],
   "source": [
    "pobject = Product(3)"
   ]
  },
  {
   "cell_type": "code",
   "execution_count": 87,
   "metadata": {},
   "outputs": [],
   "source": [
    "actions = [square, sobject, pobject.method]"
   ]
  },
  {
   "cell_type": "code",
   "execution_count": 88,
   "metadata": {},
   "outputs": [
    {
     "output_type": "stream",
     "name": "stdout",
     "text": [
      "25\n7\n15\n"
     ]
    }
   ],
   "source": [
    "for act in actions:\n",
    "    print(act(5))"
   ]
  },
  {
   "cell_type": "code",
   "execution_count": 89,
   "metadata": {},
   "outputs": [
    {
     "output_type": "execute_result",
     "data": {
      "text/plain": [
       "15"
      ]
     },
     "metadata": {},
     "execution_count": 89
    }
   ],
   "source": [
    "actions[-1](5)"
   ]
  },
  {
   "cell_type": "code",
   "execution_count": 90,
   "metadata": {},
   "outputs": [
    {
     "output_type": "execute_result",
     "data": {
      "text/plain": [
       "[25, 7, 15]"
      ]
     },
     "metadata": {},
     "execution_count": 90
    }
   ],
   "source": [
    "[act(5) for act in actions]"
   ]
  },
  {
   "cell_type": "code",
   "execution_count": 91,
   "metadata": {},
   "outputs": [
    {
     "output_type": "execute_result",
     "data": {
      "text/plain": [
       "[25, 7, 15]"
      ]
     },
     "metadata": {},
     "execution_count": 91
    }
   ],
   "source": [
    "list(map(lambda act: act(5), actions))"
   ]
  },
  {
   "cell_type": "code",
   "execution_count": 92,
   "metadata": {},
   "outputs": [],
   "source": [
    "class Negate:\n",
    "    def __init__(self, val):\n",
    "        self.val = -val\n",
    "    def __repr__(self):\n",
    "        return str(self.val)"
   ]
  },
  {
   "cell_type": "code",
   "execution_count": 93,
   "metadata": {},
   "outputs": [],
   "source": [
    "actions = [square, sobject, pobject.method, Negate]"
   ]
  },
  {
   "cell_type": "code",
   "execution_count": 94,
   "metadata": {},
   "outputs": [
    {
     "output_type": "stream",
     "name": "stdout",
     "text": [
      "25\n7\n15\n-5\n"
     ]
    }
   ],
   "source": [
    "for act in actions:\n",
    "    print(act(5))"
   ]
  },
  {
   "cell_type": "code",
   "execution_count": 95,
   "metadata": {},
   "outputs": [],
   "source": [
    "table = {act(5): act for act in actions}"
   ]
  },
  {
   "cell_type": "code",
   "execution_count": 96,
   "metadata": {},
   "outputs": [
    {
     "output_type": "stream",
     "name": "stdout",
     "text": [
      "25 => <function square at 0x000001F7FA59FCA0>\n7 => <__main__.Sum object at 0x000001F7FA56F7C0>\n15 => <bound method Product.method of <__main__.Product object at 0x000001F7FA56F580>>\n-5 => <class '__main__.Negate'>\n"
     ]
    }
   ],
   "source": [
    "for (key, value) in table.items():\n",
    "    print(f'{key} => {value}')"
   ]
  },
  {
   "source": [
    "## Classes Are Objects: Generic Object Factories"
   ],
   "cell_type": "markdown",
   "metadata": {}
  },
  {
   "cell_type": "code",
   "execution_count": 97,
   "metadata": {},
   "outputs": [],
   "source": [
    "def factory(aClass, *pargs, **kargs):\n",
    "    return aClass(*pargs, **kargs)"
   ]
  },
  {
   "cell_type": "code",
   "execution_count": 98,
   "metadata": {},
   "outputs": [],
   "source": [
    "class Spam:\n",
    "    def doit(self, message):\n",
    "        print(message)"
   ]
  },
  {
   "cell_type": "code",
   "execution_count": 99,
   "metadata": {},
   "outputs": [],
   "source": [
    "class Person:\n",
    "    def __init__(self,name, job=None):\n",
    "        self.name = name\n",
    "        self.job = job"
   ]
  },
  {
   "cell_type": "code",
   "execution_count": 100,
   "metadata": {},
   "outputs": [],
   "source": [
    "object1 = factory(Spam)"
   ]
  },
  {
   "cell_type": "code",
   "execution_count": 101,
   "metadata": {},
   "outputs": [],
   "source": [
    "object2 = factory(Person, \"Arthur\", \"King\")"
   ]
  },
  {
   "cell_type": "code",
   "execution_count": 102,
   "metadata": {},
   "outputs": [],
   "source": [
    "object3 = factory(Person, name=\"Brian\")"
   ]
  },
  {
   "cell_type": "code",
   "execution_count": 103,
   "metadata": {},
   "outputs": [
    {
     "output_type": "stream",
     "name": "stdout",
     "text": [
      "99\n"
     ]
    }
   ],
   "source": [
    "object1.doit(99)"
   ]
  },
  {
   "cell_type": "code",
   "execution_count": 104,
   "metadata": {},
   "outputs": [
    {
     "output_type": "execute_result",
     "data": {
      "text/plain": [
       "('Arthur', 'King')"
      ]
     },
     "metadata": {},
     "execution_count": 104
    }
   ],
   "source": [
    "object2.name, object2.job"
   ]
  },
  {
   "cell_type": "code",
   "execution_count": 105,
   "metadata": {},
   "outputs": [
    {
     "output_type": "execute_result",
     "data": {
      "text/plain": [
       "('Brian', None)"
      ]
     },
     "metadata": {},
     "execution_count": 105
    }
   ],
   "source": [
    "object3.name, object3.job"
   ]
  },
  {
   "source": [
    "## Why Factories?"
   ],
   "cell_type": "markdown",
   "metadata": {}
  },
  {
   "source": [
    "## Though a useful pattern"
   ],
   "cell_type": "markdown",
   "metadata": {}
  },
  {
   "cell_type": "code",
   "execution_count": 106,
   "metadata": {},
   "outputs": [],
   "source": [
    "class Spam:\n",
    "    def __init__(self):\n",
    "        self.data1 = \"food\""
   ]
  },
  {
   "cell_type": "code",
   "execution_count": 107,
   "metadata": {},
   "outputs": [],
   "source": [
    "X = Spam()"
   ]
  },
  {
   "cell_type": "code",
   "execution_count": 108,
   "metadata": {},
   "outputs": [
    {
     "output_type": "execute_result",
     "data": {
      "text/plain": [
       "<__main__.Spam at 0x1f7fa56f220>"
      ]
     },
     "metadata": {},
     "execution_count": 108
    }
   ],
   "source": [
    "X"
   ]
  },
  {
   "source": [
    "#### Listing instance attributes with \\__dict\\__"
   ],
   "cell_type": "markdown",
   "metadata": {}
  },
  {
   "cell_type": "code",
   "execution_count": 183,
   "metadata": {},
   "outputs": [],
   "source": [
    "class ListInstance():\n",
    "    \"\"\"\n",
    "    Mix-in class that provides a formateed print() os str() of instances via\n",
    "    inherintance of __str__ coded here; display instance attrs only; self is \n",
    "    instance of lowest class; __X names avoid clashing with clientś attrs.\n",
    "    \"\"\"\n",
    "    def __attrnames(self):\n",
    "        result = ''\n",
    "        for attr in sorted(self.__dict__):\n",
    "            result += f'\\n\\t{attr} = {self.__dict__[attr]}'\n",
    "        return result\n",
    "\n",
    "    def __str__(self):\n",
    "        return f'<Instance of {self.__class__.__name__}, address {id(self)} : {self.__attrnames()}\\n>'"
   ]
  },
  {
   "cell_type": "code",
   "execution_count": 184,
   "metadata": {},
   "outputs": [],
   "source": [
    "class Spam(ListInstance):\n",
    "    def __init__(self):\n",
    "        self.data1 = 'food'"
   ]
  },
  {
   "cell_type": "code",
   "execution_count": 185,
   "metadata": {},
   "outputs": [],
   "source": [
    "x = Spam()"
   ]
  },
  {
   "cell_type": "code",
   "execution_count": 186,
   "metadata": {},
   "outputs": [
    {
     "output_type": "execute_result",
     "data": {
      "text/plain": [
       "<__main__.Spam at 0x1f7fad546a0>"
      ]
     },
     "metadata": {},
     "execution_count": 186
    }
   ],
   "source": [
    "x"
   ]
  },
  {
   "cell_type": "code",
   "execution_count": 187,
   "metadata": {},
   "outputs": [
    {
     "output_type": "stream",
     "name": "stdout",
     "text": [
      "<Instance of Spam, address 2164576831136 : \n\tdata1 = food\n>\n"
     ]
    }
   ],
   "source": [
    "print(x)"
   ]
  },
  {
   "cell_type": "code",
   "execution_count": 188,
   "metadata": {},
   "outputs": [],
   "source": [
    "display = str(x)"
   ]
  },
  {
   "cell_type": "code",
   "execution_count": 189,
   "metadata": {},
   "outputs": [
    {
     "output_type": "execute_result",
     "data": {
      "text/plain": [
       "'<Instance of Spam, address 2164576831136 : \\n\\tdata1 = food\\n>'"
      ]
     },
     "metadata": {},
     "execution_count": 189
    }
   ],
   "source": [
    "display"
   ]
  },
  {
   "cell_type": "code",
   "execution_count": 190,
   "metadata": {},
   "outputs": [
    {
     "output_type": "execute_result",
     "data": {
      "text/plain": [
       "<__main__.Spam at 0x1f7fad546a0>"
      ]
     },
     "metadata": {},
     "execution_count": 190
    }
   ],
   "source": [
    "x"
   ]
  },
  {
   "cell_type": "code",
   "execution_count": 191,
   "metadata": {},
   "outputs": [],
   "source": [
    "class Super:\n",
    "    def __init__(self):\n",
    "        self.data1 = 'spam'\n",
    "    def ham(self):\n",
    "        pass"
   ]
  },
  {
   "cell_type": "code",
   "execution_count": 195,
   "metadata": {},
   "outputs": [],
   "source": [
    "class Sub(Super, ListInstance):\n",
    "    def __init__(self):\n",
    "        Super.__init__(self)\n",
    "        self.data2 = 'eggs'\n",
    "        self.data3 = 42\n",
    "    def spam(self):\n",
    "        pass"
   ]
  },
  {
   "cell_type": "code",
   "execution_count": 196,
   "metadata": {},
   "outputs": [],
   "source": [
    "X = Sub()"
   ]
  },
  {
   "cell_type": "code",
   "execution_count": 197,
   "metadata": {},
   "outputs": [
    {
     "output_type": "stream",
     "name": "stdout",
     "text": [
      "<Instance of Sub, address 2164576050816 : \n\tdata1 = spam\n\tdata2 = eggs\n\tdata3 = 42\n>\n"
     ]
    }
   ],
   "source": [
    "print(X)"
   ]
  },
  {
   "cell_type": "code",
   "execution_count": 199,
   "metadata": {},
   "outputs": [],
   "source": [
    "class C(ListInstance): pass"
   ]
  },
  {
   "cell_type": "code",
   "execution_count": 200,
   "metadata": {},
   "outputs": [],
   "source": [
    "x = C()"
   ]
  },
  {
   "cell_type": "code",
   "execution_count": 201,
   "metadata": {},
   "outputs": [],
   "source": [
    "x.a, x.b, x.c = 1, 2, 3"
   ]
  },
  {
   "cell_type": "code",
   "execution_count": 202,
   "metadata": {},
   "outputs": [
    {
     "output_type": "stream",
     "name": "stdout",
     "text": [
      "<Instance of C, address 2164574060704 : \n\ta = 1\n\tb = 2\n\tc = 3\n>\n"
     ]
    }
   ],
   "source": [
    "print(x)"
   ]
  },
  {
   "source": [
    "### Listing inherited attributes with dir"
   ],
   "cell_type": "markdown",
   "metadata": {}
  }
 ]
}