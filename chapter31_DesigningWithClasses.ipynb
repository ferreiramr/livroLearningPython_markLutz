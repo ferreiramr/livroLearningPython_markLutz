{
 "metadata": {
  "language_info": {
   "codemirror_mode": {
    "name": "ipython",
    "version": 3
   },
   "file_extension": ".py",
   "mimetype": "text/x-python",
   "name": "python",
   "nbconvert_exporter": "python",
   "pygments_lexer": "ipython3",
   "version": "3.8.5-final"
  },
  "orig_nbformat": 2,
  "kernelspec": {
   "name": "python3",
   "display_name": "Python 3",
   "language": "python"
  }
 },
 "nbformat": 4,
 "nbformat_minor": 2,
 "cells": [
  {
   "source": [
    "# CHAPTER 31 - DESIGNING WITH CLASSES"
   ],
   "cell_type": "markdown",
   "metadata": {}
  },
  {
   "source": [
    "### OOP and Inheritance: “Is-a” Relationships"
   ],
   "cell_type": "markdown",
   "metadata": {}
  },
  {
   "cell_type": "code",
   "execution_count": 20,
   "metadata": {},
   "outputs": [],
   "source": [
    "class Employee:\n",
    "    \n",
    "    def __init__(self, name, salary=0):\n",
    "        self.name = name\n",
    "        self.salary = salary\n",
    "\n",
    "    def giveRaise(self, percent):\n",
    "        self.salary = self.salary + (self.salary * percent)\n",
    "\n",
    "    def work(self):\n",
    "        print(self.name, \"does stuff\")\n",
    "\n",
    "    def __repr__(self):\n",
    "        return f\"<Employee: {self.name}, {self.salary}>\""
   ]
  },
  {
   "cell_type": "code",
   "execution_count": 21,
   "metadata": {},
   "outputs": [],
   "source": [
    "class Chef(Employee):\n",
    "    \n",
    "    def __init__(self, name):\n",
    "        Employee.__init__(self, name, 50000)\n",
    "\n",
    "    def work(self):\n",
    "        print(self.name, \"makes food\")"
   ]
  },
  {
   "cell_type": "code",
   "execution_count": 22,
   "metadata": {},
   "outputs": [],
   "source": [
    "class Server(Employee):\n",
    "\n",
    "    def __init__(self, name):\n",
    "        Employee.__init__(self, name, 40000)\n",
    "\n",
    "    def work(self):\n",
    "        print(self.name, \"interfased with customer\")"
   ]
  },
  {
   "cell_type": "code",
   "execution_count": 23,
   "metadata": {},
   "outputs": [],
   "source": [
    "class PizzaRobot(Chef):\n",
    "    \n",
    "    def __init__(self, name):\n",
    "        Chef.__init__(self, name)\n",
    "\n",
    "    def work(self):\n",
    "        print(self.name, \"makes pizza\")"
   ]
  },
  {
   "cell_type": "code",
   "execution_count": 24,
   "metadata": {},
   "outputs": [],
   "source": [
    "bob = PizzaRobot('Bob')"
   ]
  },
  {
   "cell_type": "code",
   "execution_count": 25,
   "metadata": {},
   "outputs": [
    {
     "output_type": "stream",
     "name": "stdout",
     "text": [
      "<Employee: Bob, 50000>\n"
     ]
    }
   ],
   "source": [
    "print(bob)"
   ]
  },
  {
   "cell_type": "code",
   "execution_count": 26,
   "metadata": {},
   "outputs": [
    {
     "output_type": "stream",
     "name": "stdout",
     "text": [
      "Bob makes pizza\n"
     ]
    }
   ],
   "source": [
    "bob.work()"
   ]
  },
  {
   "cell_type": "code",
   "execution_count": 27,
   "metadata": {},
   "outputs": [],
   "source": [
    "bob.giveRaise(0.2)"
   ]
  },
  {
   "cell_type": "code",
   "execution_count": 28,
   "metadata": {},
   "outputs": [
    {
     "output_type": "stream",
     "name": "stdout",
     "text": [
      "<Employee: Bob, 60000.0>\n"
     ]
    }
   ],
   "source": [
    "print(bob)"
   ]
  },
  {
   "cell_type": "code",
   "execution_count": 30,
   "metadata": {},
   "outputs": [
    {
     "output_type": "stream",
     "name": "stdout",
     "text": [
      "Employee does stuff\nChef makes food\nServer interfased with customer\nPizzaRobot makes pizza\n"
     ]
    }
   ],
   "source": [
    "for klass in Employee, Chef, Server, PizzaRobot:\n",
    "    obj = klass(klass.__name__)\n",
    "    obj.work()"
   ]
  },
  {
   "cell_type": "code",
   "execution_count": 34,
   "metadata": {},
   "outputs": [],
   "source": [
    "class Customer:\n",
    "    \n",
    "    def __init__(self, name):\n",
    "        self.name = name\n",
    "    \n",
    "    def order(self, server):\n",
    "        print(self.name, \"orders from\", server)\n",
    "\n",
    "    def pay(self, server):\n",
    "        print(self.name, \"pays for item to\", server)\n",
    "\n"
   ]
  },
  {
   "cell_type": "code",
   "execution_count": 36,
   "metadata": {},
   "outputs": [],
   "source": [
    "class Oven:\n",
    "\n",
    "    def bake(self):\n",
    "        print(\"oven bakes\")"
   ]
  },
  {
   "cell_type": "code",
   "execution_count": 47,
   "metadata": {},
   "outputs": [],
   "source": [
    "class Pizzashop:\n",
    "\n",
    "    def __init__(self):\n",
    "        self.server = Server('Pat')\n",
    "        self.chef   = PizzaRobot('Bob')\n",
    "        self.oven   = Oven()\n",
    "\n",
    "    def order(self, name):\n",
    "        custumer = Customer(name)\n",
    "        custumer.order(self.server)\n",
    "        self.chef.work()\n",
    "        self.oven.bake()\n",
    "        custumer.pay(self.server)"
   ]
  },
  {
   "cell_type": "code",
   "execution_count": 48,
   "metadata": {},
   "outputs": [],
   "source": [
    "scene = Pizzashop()"
   ]
  },
  {
   "cell_type": "code",
   "execution_count": 49,
   "metadata": {},
   "outputs": [
    {
     "output_type": "stream",
     "name": "stdout",
     "text": [
      "Homer orders from <Employee: Pat, 40000>\nBob makes pizza\noven bakes\nHomer pays for item to <Employee: Pat, 40000>\n"
     ]
    }
   ],
   "source": [
    "scene.order('Homer')"
   ]
  },
  {
   "cell_type": "code",
   "execution_count": 50,
   "metadata": {},
   "outputs": [
    {
     "output_type": "stream",
     "name": "stdout",
     "text": [
      "Shaggy orders from <Employee: Pat, 40000>\nBob makes pizza\noven bakes\nShaggy pays for item to <Employee: Pat, 40000>\n"
     ]
    }
   ],
   "source": [
    "scene.order('Shaggy')"
   ]
  },
  {
   "source": [
    "## Stream Processors Revisited"
   ],
   "cell_type": "markdown",
   "metadata": {}
  },
  {
   "cell_type": "code",
   "execution_count": 51,
   "metadata": {},
   "outputs": [],
   "source": [
    "def pricessor(reader, converter, writer):\n",
    "    while True:\n",
    "        data = reader.read()\n",
    "        if not data: break\n",
    "        data = converter(data)\n",
    "        writer.write(data)"
   ]
  },
  {
   "cell_type": "code",
   "execution_count": 53,
   "metadata": {},
   "outputs": [],
   "source": [
    "class Processor:\n",
    "\n",
    "    def __init__(self, reader, writer):\n",
    "        self.reader = reader\n",
    "        self.writer = writer\n",
    "\n",
    "    def process(self):\n",
    "        while True:\n",
    "            data = self.reader.readline()\n",
    "            if not data: break\n",
    "            data = self.converter(data)\n",
    "            self.writer.write(data)\n",
    "\n",
    "    def converter(self, data):\n",
    "        assert False, 'converter must be defined'"
   ]
  },
  {
   "cell_type": "code",
   "execution_count": 79,
   "metadata": {},
   "outputs": [],
   "source": [
    "class Uppercase(Processor):\n",
    "    def converter(self, data):\n",
    "        return data.upper()"
   ]
  },
  {
   "cell_type": "code",
   "execution_count": 80,
   "metadata": {},
   "outputs": [],
   "source": [
    "import sys"
   ]
  },
  {
   "cell_type": "code",
   "execution_count": 81,
   "metadata": {},
   "outputs": [],
   "source": [
    "obj = Uppercase(open('./files/trispam.txt'), sys.stdout)"
   ]
  },
  {
   "cell_type": "code",
   "execution_count": 82,
   "metadata": {},
   "outputs": [
    {
     "output_type": "stream",
     "name": "stdout",
     "text": [
      "SPAM\nSPAM\nSPAM!"
     ]
    }
   ],
   "source": [
    "obj.process()"
   ]
  },
  {
   "cell_type": "code",
   "execution_count": 90,
   "metadata": {},
   "outputs": [],
   "source": [
    "obj = Uppercase(open('./files/trispam.txt'), open('./files/trispamup.txt', 'w'))"
   ]
  },
  {
   "cell_type": "code",
   "execution_count": 92,
   "metadata": {},
   "outputs": [],
   "source": [
    "obj.process()"
   ]
  },
  {
   "cell_type": "code",
   "execution_count": null,
   "metadata": {},
   "outputs": [],
   "source": []
  }
 ]
}