{
 "cells": [
  {
   "cell_type": "markdown",
   "metadata": {},
   "source": [
    "# CAPÍTULO 02 - COMO PYTHON EXECUTA PROGRAMAS"
   ]
  },
  {
   "cell_type": "markdown",
   "metadata": {},
   "source": [
    "## Códigos de exemplo"
   ]
  },
  {
   "cell_type": "code",
   "execution_count": 1,
   "metadata": {
    "tags": []
   },
   "outputs": [
    {
     "output_type": "stream",
     "name": "stdout",
     "text": "hello world\n"
    }
   ],
   "source": [
    "print('hello world')"
   ]
  },
  {
   "cell_type": "code",
   "execution_count": 3,
   "metadata": {
    "tags": []
   },
   "outputs": [
    {
     "output_type": "stream",
     "name": "stdout",
     "text": "1267650600228229401496703205376\n"
    }
   ],
   "source": [
    "print(2 ** 100)"
   ]
  },
  {
   "cell_type": "markdown",
   "metadata": {},
   "source": [
    "## Resumo do capítulo\n",
    "\n",
    "Este capítulo apresentou uma introdução ao modelo de execução da Linguagem Python - Como Python executa seus programas - e exploramos algumas variações neste modelo: complicadores em tempo execução e similares. Embora você não precise se familiarizar com os componentes internos da linguagem para escrever scripts, o breve conhecimento apresentado neste capítulo ira ajuda a entender como seus programas são executados quando você escreve-los. No próximo capítulo, você irá iniciar escrever e executar códigos por si só. Mas antes, aqui está o questionário do capítulo.\n"
   ]
  },
  {
   "cell_type": "markdown",
   "metadata": {},
   "source": [
    "## Teste seus conhecimentos\n",
    "\n",
    "1. O que é o interpretador Python?\n",
    "    > O interpretador Python é um programa que executa os programas que você escreve.\n",
    "\n",
    "2. O que é o código fonte?\n",
    "    > O código fonte são os comando escritos para seu programa - ele consiste em um texto em códigos de texto que normalmente terminam com a extensão *.py*.\n",
    "\n",
    "3. O que é o byte code?\n",
    "    > Byte code é a forma de baixo nível de seu programa após ser compilado. Python automaticamente salva o byte code em arquivos com a extensão *.pyc*.\n",
    "\n",
    "4. O que é a PVM?\n",
    "    > A PVM é a *Python Virtual Machine* - o motor em tempo de execução que interpreta seu código compilado.\n",
    "\n",
    "5. Dê o nome de duas ou mais variações na modelo de execução Python.\n",
    "    > *Psyco*, *Shed* and *frozen binaries* são todas variações no modelo de execução. Uma alternativa adicional de implementação da Python, nomeado nas duas próximas repostas, modifica o modelo e também a forma de alguma maneira - por substituição do *byte code* e *VMs*, ou adicionando ferramentas e *JITs*.\n",
    "\n",
    "6. Como *CPython*, *Jython* and *IronPython* são diferentes?\n",
    "    > *CPython* é uma implementação padrão da linguagem. *Jython* and *IronPython* implementa programas Python para uso nos ambientes Java e .NET, respectivamente; eles d\n",
    "\n",
    "7. O que é *Stackless* and *PyPy*?\n",
    "    > *Stackless* é uma versão melhorada de Python otimizada para concorrência, e PyPy ia a reimplementação de Python focada em velocidade. PyPy também é o sucessor do *Psyco* e incorpora os conceitoss *JIT* pioneiros na *Psyco*"
   ]
  }
 ],
 "metadata": {
  "language_info": {
   "codemirror_mode": {
    "name": "ipython",
    "version": 3
   },
   "file_extension": ".py",
   "mimetype": "text/x-python",
   "name": "python",
   "nbconvert_exporter": "python",
   "pygments_lexer": "ipython3",
   "version": "3.8.2-final"
  },
  "orig_nbformat": 2,
  "kernelspec": {
   "name": "python38232bit6eafcce362a14bd9909261d0bc154104",
   "display_name": "Python 3.8.2 32-bit"
  }
 },
 "nbformat": 4,
 "nbformat_minor": 2
}