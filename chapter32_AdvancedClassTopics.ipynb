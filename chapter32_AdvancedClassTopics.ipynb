{
 "cells": [
  {
   "cell_type": "markdown",
   "metadata": {},
   "source": [
    "## CHAPTER 32 - ADVANCED CLASS TOPICS"
   ]
  },
  {
   "cell_type": "code",
   "execution_count": 2,
   "metadata": {},
   "outputs": [],
   "source": [
    "class Set:\r\n",
    "    def __init__(self, value = []):\r\n",
    "        self.data = []\r\n",
    "        self.concat(value)\r\n",
    "    \r\n",
    "    def intersect(self, other):\r\n",
    "        res = []\r\n",
    "        for x in self.data:\r\n",
    "            if x in other:\r\n",
    "                res.append(x)\r\n",
    "        return Set(res)\r\n",
    "\r\n",
    "    def union(self, other):\r\n",
    "        res = self.data[:]\r\n",
    "        for x in other:\r\n",
    "            if not x in res:\r\n",
    "                res.append(x)\r\n",
    "        return Set(res)\r\n",
    "\r\n",
    "    def concat(self, value):\r\n",
    "        for x in value:\r\n",
    "            if not x in self.data:\r\n",
    "                self.data.append(x)\r\n",
    "\r\n",
    "    def __len__(self):\r\n",
    "        return len(self.data)\r\n",
    "\r\n",
    "    def __getitem__(self, key):\r\n",
    "        return self.data[key]\r\n",
    "\r\n",
    "    def __and__(self, other):\r\n",
    "        return self.intersect(other)\r\n",
    "\r\n",
    "    def __or__(self, other):\r\n",
    "        return self.union(other)\r\n",
    "\r\n",
    "    def __repr__(self):\r\n",
    "        return f'Set: {repr(self.data)}'\r\n",
    "\r\n",
    "    def __iter__(self):\r\n",
    "        return iter(self.data)\r\n",
    "    "
   ]
  },
  {
   "cell_type": "code",
   "execution_count": 3,
   "metadata": {},
   "outputs": [],
   "source": [
    "x = Set([1, 3, 5, 7])"
   ]
  },
  {
   "cell_type": "code",
   "execution_count": 4,
   "metadata": {},
   "outputs": [
    {
     "data": {
      "text/plain": "Set: [1, 3, 5, 7, 4]"
     },
     "execution_count": 4,
     "metadata": {},
     "output_type": "execute_result"
    }
   ],
   "source": [
    "x.union(Set([1, 4, 7]))"
   ]
  },
  {
   "cell_type": "code",
   "execution_count": 5,
   "metadata": {},
   "outputs": [
    {
     "data": {
      "text/plain": "Set: [1, 3, 5, 7, 4, 6]"
     },
     "execution_count": 5,
     "metadata": {},
     "output_type": "execute_result"
    }
   ],
   "source": [
    "x | Set([1, 4 , 6])"
   ]
  },
  {
   "cell_type": "code",
   "execution_count": 6,
   "metadata": {},
   "outputs": [],
   "source": [
    "class MyList(list):\r\n",
    "    def __getitem__(self, offset):\r\n",
    "        print(f'(indexing {self} at {offset}')\r\n",
    "        return list.__getitem__(self, offset - 1)"
   ]
  },
  {
   "cell_type": "code",
   "execution_count": 7,
   "metadata": {},
   "outputs": [
    {
     "name": "stdout",
     "output_type": "stream",
     "text": [
      "['a', 'b', 'c']\n"
     ]
    }
   ],
   "source": [
    "print(list('abc'))"
   ]
  },
  {
   "cell_type": "code",
   "execution_count": 8,
   "metadata": {},
   "outputs": [],
   "source": [
    "x = MyList('abc')"
   ]
  },
  {
   "cell_type": "code",
   "execution_count": 9,
   "metadata": {},
   "outputs": [
    {
     "name": "stdout",
     "output_type": "stream",
     "text": [
      "(indexing ['a', 'b', 'c'] at 1\n",
      "a\n"
     ]
    }
   ],
   "source": [
    "print(x[1])"
   ]
  },
  {
   "cell_type": "code",
   "execution_count": 10,
   "metadata": {},
   "outputs": [
    {
     "name": "stdout",
     "output_type": "stream",
     "text": [
      "(indexing ['a', 'b', 'c'] at 3\n",
      "c\n"
     ]
    }
   ],
   "source": [
    "print(x[3])"
   ]
  },
  {
   "cell_type": "code",
   "execution_count": 11,
   "metadata": {},
   "outputs": [],
   "source": [
    "x.append('spam')"
   ]
  },
  {
   "cell_type": "code",
   "execution_count": 13,
   "metadata": {},
   "outputs": [
    {
     "name": "stdout",
     "output_type": "stream",
     "text": [
      "['a', 'b', 'c', 'spam']\n"
     ]
    }
   ],
   "source": [
    "print(x)"
   ]
  },
  {
   "cell_type": "code",
   "execution_count": 14,
   "metadata": {},
   "outputs": [],
   "source": [
    "x.reverse();"
   ]
  },
  {
   "cell_type": "code",
   "execution_count": 15,
   "metadata": {},
   "outputs": [
    {
     "name": "stdout",
     "output_type": "stream",
     "text": [
      "['spam', 'c', 'b', 'a']\n"
     ]
    }
   ],
   "source": [
    "print(x)"
   ]
  },
  {
   "cell_type": "code",
   "execution_count": null,
   "metadata": {},
   "outputs": [],
   "source": []
  }
 ],
 "metadata": {
  "kernelspec": {
   "display_name": "Python 3",
   "name": "python3"
  },
  "language_info": {
   "codemirror_mode": {
    "name": "ipython",
    "version": 3
   },
   "file_extension": ".py",
   "mimetype": "text/x-python",
   "name": "python",
   "nbconvert_exporter": "python",
   "pygments_lexer": "ipython3",
   "version": "3.8.5"
  },
  "orig_nbformat": 2
 },
 "nbformat": 4,
 "nbformat_minor": 2
}