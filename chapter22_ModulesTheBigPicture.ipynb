{
 "metadata": {
  "language_info": {
   "codemirror_mode": {
    "name": "ipython",
    "version": 3
   },
   "file_extension": ".py",
   "mimetype": "text/x-python",
   "name": "python",
   "nbconvert_exporter": "python",
   "pygments_lexer": "ipython3",
   "version": "3.8.3-final"
  },
  "orig_nbformat": 2,
  "kernelspec": {
   "name": "python_defaultSpec_1599893543296",
   "display_name": "Python 3.8.3 64-bit ('base': conda)"
  }
 },
 "nbformat": 4,
 "nbformat_minor": 2,
 "cells": [
  {
   "cell_type": "markdown",
   "metadata": {},
   "source": [
    "# CHAPTER 22 - MODULES: THE BIG PICTURE"
   ]
  },
  {
   "cell_type": "code",
   "execution_count": 2,
   "metadata": {},
   "outputs": [],
   "source": [
    "import sys"
   ]
  },
  {
   "cell_type": "code",
   "execution_count": 3,
   "metadata": {},
   "outputs": [
    {
     "output_type": "execute_result",
     "data": {
      "text/plain": "['d:\\\\Projetos\\\\livroLearningPython_MarkLutz',\n 'c:\\\\Users\\\\olamu\\\\.vscode\\\\extensions\\\\ms-python.python-2020.8.108011\\\\pythonFiles\\\\vscode_datascience_helpers\\\\..\\\\.does-not-exist',\n 'c:\\\\Users\\\\olamu\\\\.vscode\\\\extensions\\\\ms-python.python-2020.8.108011\\\\pythonFiles',\n 'c:\\\\Users\\\\olamu\\\\.vscode\\\\extensions\\\\ms-python.python-2020.8.108011\\\\pythonFiles\\\\lib\\\\python',\n 'C:\\\\Users\\\\olamu\\\\anaconda3\\\\python38.zip',\n 'C:\\\\Users\\\\olamu\\\\anaconda3\\\\DLLs',\n 'C:\\\\Users\\\\olamu\\\\anaconda3\\\\lib',\n 'C:\\\\Users\\\\olamu\\\\anaconda3',\n '',\n 'C:\\\\Users\\\\olamu\\\\anaconda3\\\\lib\\\\site-packages',\n 'C:\\\\Users\\\\olamu\\\\anaconda3\\\\lib\\\\site-packages\\\\win32',\n 'C:\\\\Users\\\\olamu\\\\anaconda3\\\\lib\\\\site-packages\\\\win32\\\\lib',\n 'C:\\\\Users\\\\olamu\\\\anaconda3\\\\lib\\\\site-packages\\\\Pythonwin',\n 'C:\\\\Users\\\\olamu\\\\anaconda3\\\\lib\\\\site-packages\\\\IPython\\\\extensions',\n 'C:\\\\Users\\\\olamu\\\\.ipython',\n 'c:\\\\Users\\\\olamu\\\\.vscode\\\\extensions\\\\ms-python.python-2020.8.108011\\\\pythonFiles\\\\lib\\\\python']"
     },
     "metadata": {},
     "execution_count": 3
    }
   ],
   "source": [
    "\n",
    "sys.path"
   ]
  },
  {
   "cell_type": "code",
   "execution_count": null,
   "metadata": {},
   "outputs": [],
   "source": [
    "## Apenas explanação teórica."
   ]
  }
 ]
}