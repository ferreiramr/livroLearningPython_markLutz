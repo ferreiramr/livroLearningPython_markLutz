{
 "cells": [
  {
   "cell_type": "markdown",
   "metadata": {},
   "source": [
    "# CHAPTER 01: Uma seção Python de perguntas e respostas"
   ]
  },
  {
   "cell_type": "markdown",
   "metadata": {},
   "source": [
    "## Códigos de exemplo"
   ]
  },
  {
   "cell_type": "code",
   "execution_count": 1,
   "metadata": {
    "tags": []
   },
   "outputs": [
    {
     "output_type": "stream",
     "name": "stdout",
     "text": "The Zen of Python, by Tim Peters\n\nBeautiful is better than ugly.\nExplicit is better than implicit.\nSimple is better than complex.\nComplex is better than complicated.\nFlat is better than nested.\nSparse is better than dense.\nReadability counts.\nSpecial cases aren't special enough to break the rules.\nAlthough practicality beats purity.\nErrors should never pass silently.\nUnless explicitly silenced.\nIn the face of ambiguity, refuse the temptation to guess.\nThere should be one-- and preferably only one --obvious way to do it.\nAlthough that way may not be obvious at first unless you're Dutch.\nNow is better than never.\nAlthough never is often better than *right* now.\nIf the implementation is hard to explain, it's a bad idea.\nIf the implementation is easy to explain, it may be a good idea.\nNamespaces are one honking great idea -- let's do more of those!\n"
    }
   ],
   "source": [
    "import this"
   ]
  },
  {
   "cell_type": "markdown",
   "metadata": {},
   "source": [
    "## Resumo do capítulo\n",
    "\n",
    "E isso conclui a ideia geral do livro. Neste capítulo, nós exploramos alguns das razões pelas quais as pessoas escolhem Python para programas suas tarefas. Nos também vimos como é aplicada e demos olha olhada em quem esta usando hoje. Meu objetivo é ensinar Python, sem vende-la. A melhor maneira de julgar um linguagem de programação é a vela em ação, então o restante do livro foca inteiramente nos detalhes da linguagem que explicaremos aqui.\n",
    "\n",
    "Os próximos dois capítulos iniciam sua introdução técnica a linguagem. Nelas, vamos explorar maneiras de executar programas em Python, dar uma olhada no modelo de execução byte code, e conhecer o básico de módulos para salvar códigos. O objetivo é dar a você apenas informação suficiente para rodar exemplos e exercícios do resto do livro. Você não estará realmente programando até o Capítulo 4, mas verifique os detalhes antes de prosseguir."
   ]
  },
  {
   "cell_type": "markdown",
   "metadata": {},
   "source": [
    "## Teste seus conhecimentos\n",
    "\n",
    "1. Quais são as seis principais razões para as pessoas escolher Python?\n",
    "> Qualidade de software, developer productivity, programas de portabilidade, bibliotecas de suporte, integração de componentes e pelo simples prazer. Destes,  qualidade e produtividade parecem ser os principais motivos que levam as pessoas a escolherem Python.\n",
    "\n",
    "2. Nomeie quatro empresas de destaque que utilizam Python dia a dia.\n",
    "> Google, Industrial Light & Magic, CCP Games, Jet Propulsion Labs, Maya, ESRI e outras mais. Quase todas as empresas de que desenvolver software utiliza Python utiliza Python de alguma forma, seja na estratégia de desenvolvimento de longo prazo ou tarefas intermediárias como teste e administração de sistemas.\n",
    "\n",
    "3. Por que você não deveria utilizar Python em sua aplicação?\n",
    "> A princípal desvantagem de Python é a performance: Não executa tão rápido quanto linguagens completamente compiladas como C e C++. Por outro lado é rápido o suficiente para maioria das aplicações, um típico código em Python executa quase tão rápido quanto C, porque utiliza código em C no interpretador. Se a velocidade é crítica, extensões compiladas estão disponíveis para várias partes da sua aplicação.\n",
    "\n",
    "4. O que vocÊ pode fazer com Python?\n",
    "> Você pode utilizar Python para praticamente qualquer coisa que utilize um computador, para desenvolver um site, jogos, robótica e para controlar uma nave espacial.\n",
    "\n",
    "5. O que significa da declaração `import this` em Python?\n",
    "> Isto é mencionada nas notas de rodapé: `import this` inicia um *Ester egg* em Python que exibe algumas das filosofias por baixo da linguagem. Você irá aprender com iniciar esta instrução no próximo capítulo.\n",
    "\n",
    "6. Por que \"*spam*\" aparece em tantos exemplos de livros de Python e na Internet?\n",
    "> \"*Spam*\" é um referência do famoso grupo Monty Python em que pessoas estão tentando pedir comida em uma cafeteria e são afogados em um coro de Vikings cantando sobre *spam*. Ah, e também é um nome comum de variável nos scripts Python\n",
    "\n",
    "7. Qual é sua cor favorita?\n",
    "> Azul. Não, amarelo! (Veja a resposta anterior.)"
   ]
  }
 ],
 "metadata": {
  "language_info": {
   "codemirror_mode": {
    "name": "ipython",
    "version": 3
   },
   "file_extension": ".py",
   "mimetype": "text/x-python",
   "name": "python",
   "nbconvert_exporter": "python",
   "pygments_lexer": "ipython3",
   "version": "3.8.2-final"
  },
  "orig_nbformat": 2,
  "kernelspec": {
   "name": "python38232bit6eafcce362a14bd9909261d0bc154104",
   "display_name": "Python 3.8.2 32-bit"
  }
 },
 "nbformat": 4,
 "nbformat_minor": 2
}