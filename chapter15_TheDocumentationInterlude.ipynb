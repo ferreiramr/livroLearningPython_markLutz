{
 "metadata": {
  "language_info": {
   "codemirror_mode": {
    "name": "ipython",
    "version": 3
   },
   "file_extension": ".py",
   "mimetype": "text/x-python",
   "name": "python",
   "nbconvert_exporter": "python",
   "pygments_lexer": "ipython3",
   "version": "3.8.3-final"
  },
  "orig_nbformat": 2,
  "kernelspec": {
   "name": "python3",
   "display_name": "Python 3"
  }
 },
 "nbformat": 4,
 "nbformat_minor": 2,
 "cells": [
  {
   "cell_type": "markdown",
   "metadata": {},
   "source": [
    "# CHAPTER 15 - THE DOCUMENT INTERLUDE"
   ]
  },
  {
   "cell_type": "markdown",
   "metadata": {},
   "source": [
    "## Comments"
   ]
  },
  {
   "cell_type": "code",
   "execution_count": 2,
   "metadata": {},
   "outputs": [],
   "source": [
    "import sys"
   ]
  },
  {
   "cell_type": "code",
   "execution_count": 3,
   "metadata": {},
   "outputs": [
    {
     "output_type": "execute_result",
     "data": {
      "text/plain": "['__breakpointhook__',\n '__displayhook__',\n '__doc__',\n '__excepthook__',\n '__interactivehook__',\n '__loader__',\n '__name__',\n '__package__',\n '__spec__',\n '__stderr__',\n '__stdin__',\n '__stdout__',\n '__unraisablehook__',\n '_base_executable',\n '_clear_type_cache',\n '_current_frames',\n '_debugmallocstats',\n '_enablelegacywindowsfsencoding',\n '_framework',\n '_getframe',\n '_git',\n '_home',\n '_xoptions',\n 'addaudithook',\n 'api_version',\n 'argv',\n 'audit',\n 'base_exec_prefix',\n 'base_prefix',\n 'breakpointhook',\n 'builtin_module_names',\n 'byteorder',\n 'call_tracing',\n 'callstats',\n 'copyright',\n 'displayhook',\n 'dllhandle',\n 'dont_write_bytecode',\n 'exc_info',\n 'excepthook',\n 'exec_prefix',\n 'executable',\n 'exit',\n 'flags',\n 'float_info',\n 'float_repr_style',\n 'get_asyncgen_hooks',\n 'get_coroutine_origin_tracking_depth',\n 'getallocatedblocks',\n 'getcheckinterval',\n 'getdefaultencoding',\n 'getfilesystemencodeerrors',\n 'getfilesystemencoding',\n 'getprofile',\n 'getrecursionlimit',\n 'getrefcount',\n 'getsizeof',\n 'getswitchinterval',\n 'gettrace',\n 'getwindowsversion',\n 'hash_info',\n 'hexversion',\n 'implementation',\n 'int_info',\n 'intern',\n 'is_finalizing',\n 'maxsize',\n 'maxunicode',\n 'meta_path',\n 'modules',\n 'path',\n 'path_hooks',\n 'path_importer_cache',\n 'platform',\n 'prefix',\n 'ps1',\n 'ps2',\n 'ps3',\n 'pycache_prefix',\n 'set_asyncgen_hooks',\n 'set_coroutine_origin_tracking_depth',\n 'setcheckinterval',\n 'setprofile',\n 'setrecursionlimit',\n 'setswitchinterval',\n 'settrace',\n 'stderr',\n 'stdin',\n 'stdout',\n 'thread_info',\n 'unraisablehook',\n 'version',\n 'version_info',\n 'warnoptions',\n 'winver']"
     },
     "metadata": {},
     "execution_count": 3
    }
   ],
   "source": [
    "dir(sys)"
   ]
  },
  {
   "cell_type": "code",
   "execution_count": 4,
   "metadata": {},
   "outputs": [
    {
     "output_type": "execute_result",
     "data": {
      "text/plain": "95"
     },
     "metadata": {},
     "execution_count": 4
    }
   ],
   "source": [
    "len(dir(sys))"
   ]
  },
  {
   "cell_type": "code",
   "execution_count": 5,
   "metadata": {},
   "outputs": [
    {
     "output_type": "execute_result",
     "data": {
      "text/plain": "82"
     },
     "metadata": {},
     "execution_count": 5
    }
   ],
   "source": [
    "len([x for x in dir(sys) if not x.startswith('__')])"
   ]
  },
  {
   "cell_type": "code",
   "execution_count": 6,
   "metadata": {},
   "outputs": [
    {
     "output_type": "execute_result",
     "data": {
      "text/plain": "72"
     },
     "metadata": {},
     "execution_count": 6
    }
   ],
   "source": [
    "len([x for x in dir(sys) if not x[0] == '_'])"
   ]
  },
  {
   "cell_type": "code",
   "execution_count": 7,
   "metadata": {},
   "outputs": [
    {
     "output_type": "execute_result",
     "data": {
      "text/plain": "['__add__',\n '__class__',\n '__contains__',\n '__delattr__',\n '__delitem__',\n '__dir__',\n '__doc__',\n '__eq__',\n '__format__',\n '__ge__',\n '__getattribute__',\n '__getitem__',\n '__gt__',\n '__hash__',\n '__iadd__',\n '__imul__',\n '__init__',\n '__init_subclass__',\n '__iter__',\n '__le__',\n '__len__',\n '__lt__',\n '__mul__',\n '__ne__',\n '__new__',\n '__reduce__',\n '__reduce_ex__',\n '__repr__',\n '__reversed__',\n '__rmul__',\n '__setattr__',\n '__setitem__',\n '__sizeof__',\n '__str__',\n '__subclasshook__',\n 'append',\n 'clear',\n 'copy',\n 'count',\n 'extend',\n 'index',\n 'insert',\n 'pop',\n 'remove',\n 'reverse',\n 'sort']"
     },
     "metadata": {},
     "execution_count": 7
    }
   ],
   "source": [
    "dir([])"
   ]
  },
  {
   "cell_type": "code",
   "execution_count": 8,
   "metadata": {},
   "outputs": [
    {
     "output_type": "execute_result",
     "data": {
      "text/plain": "['__add__',\n '__class__',\n '__contains__',\n '__delattr__',\n '__dir__',\n '__doc__',\n '__eq__',\n '__format__',\n '__ge__',\n '__getattribute__',\n '__getitem__',\n '__getnewargs__',\n '__gt__',\n '__hash__',\n '__init__',\n '__init_subclass__',\n '__iter__',\n '__le__',\n '__len__',\n '__lt__',\n '__mod__',\n '__mul__',\n '__ne__',\n '__new__',\n '__reduce__',\n '__reduce_ex__',\n '__repr__',\n '__rmod__',\n '__rmul__',\n '__setattr__',\n '__sizeof__',\n '__str__',\n '__subclasshook__',\n 'capitalize',\n 'casefold',\n 'center',\n 'count',\n 'encode',\n 'endswith',\n 'expandtabs',\n 'find',\n 'format',\n 'format_map',\n 'index',\n 'isalnum',\n 'isalpha',\n 'isascii',\n 'isdecimal',\n 'isdigit',\n 'isidentifier',\n 'islower',\n 'isnumeric',\n 'isprintable',\n 'isspace',\n 'istitle',\n 'isupper',\n 'join',\n 'ljust',\n 'lower',\n 'lstrip',\n 'maketrans',\n 'partition',\n 'replace',\n 'rfind',\n 'rindex',\n 'rjust',\n 'rpartition',\n 'rsplit',\n 'rstrip',\n 'split',\n 'splitlines',\n 'startswith',\n 'strip',\n 'swapcase',\n 'title',\n 'translate',\n 'upper',\n 'zfill']"
     },
     "metadata": {},
     "execution_count": 8
    }
   ],
   "source": [
    "dir(str)"
   ]
  },
  {
   "cell_type": "code",
   "execution_count": 14,
   "metadata": {},
   "outputs": [
    {
     "output_type": "execute_result",
     "data": {
      "text/plain": "['add',\n 'clear',\n 'copy',\n 'difference',\n 'difference_update',\n 'discard',\n 'intersection',\n 'intersection_update',\n 'isdisjoint',\n 'issubset',\n 'issuperset',\n 'pop',\n 'remove',\n 'symmetric_difference',\n 'symmetric_difference_update',\n 'union',\n 'update']"
     },
     "metadata": {},
     "execution_count": 14
    }
   ],
   "source": [
    "[metodo for metodo in dir(set) if not metodo.startswith('_')]"
   ]
  },
  {
   "cell_type": "code",
   "execution_count": 15,
   "metadata": {},
   "outputs": [
    {
     "output_type": "execute_result",
     "data": {
      "text/plain": "(46, 11)"
     },
     "metadata": {},
     "execution_count": 15
    }
   ],
   "source": [
    "len(dir([])), len([x for x in dir([]) if not x.startswith('__')])"
   ]
  },
  {
   "cell_type": "code",
   "execution_count": 16,
   "metadata": {},
   "outputs": [
    {
     "output_type": "execute_result",
     "data": {
      "text/plain": "(78, 45)"
     },
     "metadata": {},
     "execution_count": 16
    }
   ],
   "source": [
    "len(dir('')), len([x for x in dir('') if not x.startswith('__')])"
   ]
  },
  {
   "cell_type": "code",
   "execution_count": 17,
   "metadata": {},
   "outputs": [
    {
     "output_type": "execute_result",
     "data": {
      "text/plain": "['append',\n 'clear',\n 'copy',\n 'count',\n 'extend',\n 'index',\n 'insert',\n 'pop',\n 'remove',\n 'reverse',\n 'sort']"
     },
     "metadata": {},
     "execution_count": 17
    }
   ],
   "source": [
    "[a for a in dir(list) if not a.startswith('__')]"
   ]
  },
  {
   "cell_type": "code",
   "execution_count": 18,
   "metadata": {},
   "outputs": [
    {
     "output_type": "execute_result",
     "data": {
      "text/plain": "['clear',\n 'copy',\n 'fromkeys',\n 'get',\n 'items',\n 'keys',\n 'pop',\n 'popitem',\n 'setdefault',\n 'update',\n 'values']"
     },
     "metadata": {},
     "execution_count": 18
    }
   ],
   "source": [
    "[a for a in dir(dict) if not a.startswith('__')]"
   ]
  },
  {
   "cell_type": "code",
   "execution_count": 19,
   "metadata": {},
   "outputs": [],
   "source": [
    "def dir1(x): return [a for a in dir(x) if not a.startswith('__')]"
   ]
  },
  {
   "cell_type": "code",
   "execution_count": 20,
   "metadata": {},
   "outputs": [
    {
     "output_type": "execute_result",
     "data": {
      "text/plain": "['count', 'index']"
     },
     "metadata": {},
     "execution_count": 20
    }
   ],
   "source": [
    "dir1(tuple)"
   ]
  },
  {
   "cell_type": "code",
   "execution_count": 22,
   "metadata": {},
   "outputs": [
    {
     "output_type": "execute_result",
     "data": {
      "text/plain": "True"
     },
     "metadata": {},
     "execution_count": 22
    }
   ],
   "source": [
    "dir(str) == dir('')"
   ]
  },
  {
   "cell_type": "code",
   "execution_count": 23,
   "metadata": {},
   "outputs": [
    {
     "output_type": "execute_result",
     "data": {
      "text/plain": "True"
     },
     "metadata": {},
     "execution_count": 23
    }
   ],
   "source": [
    "dir(list) == dir([])"
   ]
  },
  {
   "cell_type": "markdown",
   "metadata": {},
   "source": [
    "## Docstrings: __doc__"
   ]
  },
  {
   "cell_type": "code",
   "execution_count": 24,
   "metadata": {
    "tags": []
   },
   "outputs": [
    {
     "output_type": "stream",
     "name": "stdout",
     "text": "16\n\n    function documentation\n    can we have your liver then?\n    \n"
    }
   ],
   "source": [
    "\"\"\"\n",
    "Module documentation\n",
    "Words Go Here\n",
    "\"\"\"\n",
    "spam = 40\n",
    "def square(x):\n",
    "    \"\"\"\n",
    "    function documentation\n",
    "    can we have your liver then?\n",
    "    \"\"\"\n",
    "    return x ** 2 # square\n",
    "\n",
    "class Employee:\n",
    "    \"class documentation\"\n",
    "    pass\n",
    "\n",
    "print(square(4))\n",
    "print(square.__doc__)"
   ]
  },
  {
   "cell_type": "code",
   "execution_count": 1,
   "metadata": {},
   "outputs": [
    {
     "output_type": "error",
     "ename": "SyntaxError",
     "evalue": "invalid syntax (<ipython-input-1-21df0402bfb4>, line 1)",
     "traceback": [
      "\u001b[1;36m  File \u001b[1;32m\"<ipython-input-1-21df0402bfb4>\"\u001b[1;36m, line \u001b[1;32m1\u001b[0m\n\u001b[1;33m    import files/docstrings\u001b[0m\n\u001b[1;37m                ^\u001b[0m\n\u001b[1;31mSyntaxError\u001b[0m\u001b[1;31m:\u001b[0m invalid syntax\n"
     ]
    }
   ],
   "source": [
    "import files/docstrings"
   ]
  },
  {
   "cell_type": "code",
   "execution_count": 2,
   "metadata": {},
   "outputs": [],
   "source": [
    "import sys\n",
    "sys.path.insert(1, 'files')"
   ]
  },
  {
   "cell_type": "code",
   "execution_count": 3,
   "metadata": {
    "tags": []
   },
   "outputs": [
    {
     "output_type": "stream",
     "name": "stdout",
     "text": "16\n\n    function documentation\n    can we have your liver then?\n    \n"
    }
   ],
   "source": [
    "import docstrings"
   ]
  },
  {
   "cell_type": "code",
   "execution_count": 4,
   "metadata": {},
   "outputs": [],
   "source": [
    "import docstrings"
   ]
  },
  {
   "cell_type": "code",
   "execution_count": 5,
   "metadata": {
    "tags": []
   },
   "outputs": [
    {
     "output_type": "stream",
     "name": "stdout",
     "text": "\nModule documentation\nWords Go Here\n\n"
    }
   ],
   "source": [
    "print(docstrings.__doc__)"
   ]
  },
  {
   "cell_type": "code",
   "execution_count": 6,
   "metadata": {
    "tags": []
   },
   "outputs": [
    {
     "output_type": "stream",
     "name": "stdout",
     "text": "\n    function documentation\n    can we have your liver then?\n    \n"
    }
   ],
   "source": [
    "print(docstrings.square.__doc__)"
   ]
  },
  {
   "cell_type": "code",
   "execution_count": 7,
   "metadata": {
    "tags": []
   },
   "outputs": [
    {
     "output_type": "stream",
     "name": "stdout",
     "text": "class documentation\n"
    }
   ],
   "source": [
    "print(docstrings.Employee.__doc__)"
   ]
  },
  {
   "cell_type": "code",
   "execution_count": 8,
   "metadata": {},
   "outputs": [],
   "source": [
    "import sys"
   ]
  },
  {
   "cell_type": "code",
   "execution_count": 9,
   "metadata": {
    "tags": []
   },
   "outputs": [
    {
     "output_type": "stream",
     "name": "stdout",
     "text": "This module provides access to some objects used or maintained by the\ninterpreter and to functions that interact strongly with the interpreter.\n\nDynamic objects:\n\nargv -- command line arguments; argv[0] is the script pathname if known\npath -- module search path; path[0] is the script directory, else ''\nmodules -- dictionary of loaded modules\n\ndisplayhook -- called to show results in an interactive session\nexcepthook -- called to handle any uncaught exception other than SystemExit\n  To customize printing in an interactive session or to install a custom\n  top-level exception handler, assign other functions to replace these.\n\nstdin -- standard input file object; used by input()\nstdout -- standard output file object; used by print()\nstderr -- standard error object; used for error messages\n  By assigning other file objects (or objects that behave like files)\n  to these, it is possible to redirect all of the interpreter's I/O.\n\nlast_type -- type of last uncaught exception\nlast_value -- value of last uncaught exception\nlast_traceback -- traceback of last uncaught exception\n  These three are only available in an interactive session after a\n  traceback has been printed.\n\nStatic objects:\n\nbuiltin_module_names -- tuple of module names built into this interpreter\ncopyright -- copyright notice pertaining to this interpreter\nexec_prefix -- prefix used to find the machine-specific Python library\nexecutable -- absolute path of the executable binary of the Python interpreter\nfloat_info -- a named tuple with information about the float implementation.\nfloat_repr_style -- string indicating the style of repr() output for floats\nhash_info -- a named tuple with information about the hash algorithm.\nhexversion -- version information encoded as a single integer\nimplementation -- Python implementation information.\nint_info -- a named tuple with information about the int implementation.\nmaxsize -- the largest supported length of containers.\nmaxunicode -- the value of the largest Unicode code point\nplatform -- platform identifier\nprefix -- prefix used to find the Python library\nthread_info -- a named tuple with information about the thread implementation.\nversion -- the version of this interpreter as a string\nversion_info -- version information as a named tuple\ndllhandle -- [Windows only] integer handle of the Python DLL\nwinver -- [Windows only] version number of the Python DLL\n_enablelegacywindowsfsencoding -- [Windows only]\n__stdin__ -- the original stdin; don't touch!\n__stdout__ -- the original stdout; don't touch!\n__stderr__ -- the original stderr; don't touch!\n__displayhook__ -- the original displayhook; don't touch!\n__excepthook__ -- the original excepthook; don't touch!\n\nFunctions:\n\ndisplayhook() -- print an object to the screen, and save it in builtins._\nexcepthook() -- print an exception and its traceback to sys.stderr\nexc_info() -- return thread-safe information about the current exception\nexit() -- exit the interpreter by raising SystemExit\ngetdlopenflags() -- returns flags to be used for dlopen() calls\ngetprofile() -- get the global profiling function\ngetrefcount() -- return the reference count for an object (plus one :-)\ngetrecursionlimit() -- return the max recursion depth for the interpreter\ngetsizeof() -- return the size of an object in bytes\ngettrace() -- get the global debug tracing function\nsetcheckinterval() -- control how often the interpreter checks for events\nsetdlopenflags() -- set the flags to be used for dlopen() calls\nsetprofile() -- set the global profiling function\nsetrecursionlimit() -- set the max recursion depth for the interpreter\nsettrace() -- set the global debug tracing function\n\n"
    }
   ],
   "source": [
    "print(sys.__doc__)"
   ]
  },
  {
   "cell_type": "code",
   "execution_count": 10,
   "metadata": {
    "tags": []
   },
   "outputs": [
    {
     "output_type": "stream",
     "name": "stdout",
     "text": "Return the reference count of object.\n\nThe count returned is generally one higher than you might expect,\nbecause it includes the (temporary) reference as an argument to\ngetrefcount().\n"
    }
   ],
   "source": [
    "print(sys.getrefcount.__doc__)"
   ]
  },
  {
   "cell_type": "code",
   "execution_count": 11,
   "metadata": {
    "tags": []
   },
   "outputs": [
    {
     "output_type": "stream",
     "name": "stdout",
     "text": "int([x]) -> integer\nint(x, base=10) -> integer\n\nConvert a number or string to an integer, or return 0 if no arguments\nare given.  If x is a number, return x.__int__().  For floating point\nnumbers, this truncates towards zero.\n\nIf x is not a number or if base is given, then x must be a string,\nbytes, or bytearray instance representing an integer literal in the\ngiven base.  The literal can be preceded by '+' or '-' and be surrounded\nby whitespace.  The base defaults to 10.  Valid bases are 0 and 2-36.\nBase 0 means to interpret the base from the string as an integer literal.\n>>> int('0b100', base=0)\n4\n"
    }
   ],
   "source": [
    "print(int.__doc__)"
   ]
  },
  {
   "cell_type": "code",
   "execution_count": 12,
   "metadata": {
    "tags": []
   },
   "outputs": [
    {
     "output_type": "stream",
     "name": "stdout",
     "text": "map(func, *iterables) --> map object\n\nMake an iterator that computes the function using arguments from\neach of the iterables.  Stops when the shortest iterable is exhausted.\n"
    }
   ],
   "source": [
    "print(map.__doc__)"
   ]
  },
  {
   "cell_type": "markdown",
   "metadata": {},
   "source": [
    "## PyDoc: The help Function"
   ]
  },
  {
   "cell_type": "code",
   "execution_count": 13,
   "metadata": {},
   "outputs": [],
   "source": [
    "import sys"
   ]
  },
  {
   "cell_type": "code",
   "execution_count": 14,
   "metadata": {
    "tags": []
   },
   "outputs": [
    {
     "output_type": "stream",
     "name": "stdout",
     "text": "Help on built-in function getrefcount in module sys:\n\ngetrefcount(object, /)\n    Return the reference count of object.\n    \n    The count returned is generally one higher than you might expect,\n    because it includes the (temporary) reference as an argument to\n    getrefcount().\n\n"
    }
   ],
   "source": [
    "help(sys.getrefcount)"
   ]
  },
  {
   "cell_type": "code",
   "execution_count": 15,
   "metadata": {
    "tags": []
   },
   "outputs": [
    {
     "output_type": "stream",
     "name": "stdout",
     "text": "Help on built-in module sys:\n\nNAME\n    sys\n\nMODULE REFERENCE\n    https://docs.python.org/3.8/library/sys\n    \n    The following documentation is automatically generated from the Python\n    source files.  It may be incomplete, incorrect or include features that\n    are considered implementation detail and may vary between Python\n    implementations.  When in doubt, consult the module reference at the\n    location listed above.\n\nDESCRIPTION\n    This module provides access to some objects used or maintained by the\n    interpreter and to functions that interact strongly with the interpreter.\n    \n    Dynamic objects:\n    \n    argv -- command line arguments; argv[0] is the script pathname if known\n    path -- module search path; path[0] is the script directory, else ''\n    modules -- dictionary of loaded modules\n    \n    displayhook -- called to show results in an interactive session\n    excepthook -- called to handle any uncaught exception other than SystemExit\n      To customize printing in an interactive session or to install a custom\n      top-level exception handler, assign other functions to replace these.\n    \n    stdin -- standard input file object; used by input()\n    stdout -- standard output file object; used by print()\n    stderr -- standard error object; used for error messages\n      By assigning other file objects (or objects that behave like files)\n      to these, it is possible to redirect all of the interpreter's I/O.\n    \n    last_type -- type of last uncaught exception\n    last_value -- value of last uncaught exception\n    last_traceback -- traceback of last uncaught exception\n      These three are only available in an interactive session after a\n      traceback has been printed.\n    \n    Static objects:\n    \n    builtin_module_names -- tuple of module names built into this interpreter\n    copyright -- copyright notice pertaining to this interpreter\n    exec_prefix -- prefix used to find the machine-specific Python library\n    executable -- absolute path of the executable binary of the Python interpreter\n    float_info -- a named tuple with information about the float implementation.\n    float_repr_style -- string indicating the style of repr() output for floats\n    hash_info -- a named tuple with information about the hash algorithm.\n    hexversion -- version information encoded as a single integer\n    implementation -- Python implementation information.\n    int_info -- a named tuple with information about the int implementation.\n    maxsize -- the largest supported length of containers.\n    maxunicode -- the value of the largest Unicode code point\n    platform -- platform identifier\n    prefix -- prefix used to find the Python library\n    thread_info -- a named tuple with information about the thread implementation.\n    version -- the version of this interpreter as a string\n    version_info -- version information as a named tuple\n    dllhandle -- [Windows only] integer handle of the Python DLL\n    winver -- [Windows only] version number of the Python DLL\n    _enablelegacywindowsfsencoding -- [Windows only]\n    __stdin__ -- the original stdin; don't touch!\n    __stdout__ -- the original stdout; don't touch!\n    __stderr__ -- the original stderr; don't touch!\n    __displayhook__ -- the original displayhook; don't touch!\n    __excepthook__ -- the original excepthook; don't touch!\n    \n    Functions:\n    \n    displayhook() -- print an object to the screen, and save it in builtins._\n    excepthook() -- print an exception and its traceback to sys.stderr\n    exc_info() -- return thread-safe information about the current exception\n    exit() -- exit the interpreter by raising SystemExit\n    getdlopenflags() -- returns flags to be used for dlopen() calls\n    getprofile() -- get the global profiling function\n    getrefcount() -- return the reference count for an object (plus one :-)\n    getrecursionlimit() -- return the max recursion depth for the interpreter\n    getsizeof() -- return the size of an object in bytes\n    gettrace() -- get the global debug tracing function\n    setcheckinterval() -- control how often the interpreter checks for events\n    setdlopenflags() -- set the flags to be used for dlopen() calls\n    setprofile() -- set the global profiling function\n    setrecursionlimit() -- set the max recursion depth for the interpreter\n    settrace() -- set the global debug tracing function\n\nFUNCTIONS\n    __breakpointhook__ = breakpointhook(...)\n        breakpointhook(*args, **kws)\n        \n        This hook function is called by built-in breakpoint().\n    \n    __displayhook__ = displayhook(object, /)\n        Print an object to sys.stdout and also save it in builtins._\n    \n    __excepthook__ = excepthook(exctype, value, traceback, /)\n        Handle an exception by displaying it with a traceback on sys.stderr.\n    \n    __unraisablehook__ = unraisablehook(unraisable, /)\n        Handle an unraisable exception.\n        \n        The unraisable argument has the following attributes:\n        \n        * exc_type: Exception type.\n        * exc_value: Exception value, can be None.\n        * exc_traceback: Exception traceback, can be None.\n        * err_msg: Error message, can be None.\n        * object: Object causing the exception, can be None.\n    \n    addaudithook(hook)\n        Adds a new audit hook callback.\n    \n    audit(...)\n        audit(event, *args)\n        \n        Passes the event to any audit hooks that are attached.\n    \n    breakpointhook(...)\n        breakpointhook(*args, **kws)\n        \n        This hook function is called by built-in breakpoint().\n    \n    call_tracing(func, args, /)\n        Call func(*args), while tracing is enabled.\n        \n        The tracing state is saved, and restored afterwards.  This is intended\n        to be called from a debugger from a checkpoint, to recursively debug\n        some other code.\n    \n    callstats()\n        Return a tuple of function call statistics.\n        \n        A tuple is returned only if CALL_PROFILE was defined when Python was\n        built.  Otherwise, this returns None.\n        \n        When enabled, this function returns detailed, implementation-specific\n        details about the number of function calls executed. The return value\n        is a 11-tuple where the entries in the tuple are counts of:\n        0. all function calls\n        1. calls to PyFunction_Type objects\n        2. PyFunction calls that do not create an argument tuple\n        3. PyFunction calls that do not create an argument tuple\n           and bypass PyEval_EvalCodeEx()\n        4. PyMethod calls\n        5. PyMethod calls on bound methods\n        6. PyType calls\n        7. PyCFunction calls\n        8. generator calls\n        9. All other calls\n        10. Number of stack pops performed by call_function()\n    \n    exc_info()\n        Return current exception information: (type, value, traceback).\n        \n        Return information about the most recent exception caught by an except\n        clause in the current stack frame or in an older stack frame.\n    \n    exit(status=None, /)\n        Exit the interpreter by raising SystemExit(status).\n        \n        If the status is omitted or None, it defaults to zero (i.e., success).\n        If the status is an integer, it will be used as the system exit status.\n        If it is another kind of object, it will be printed and the system\n        exit status will be one (i.e., failure).\n    \n    get_asyncgen_hooks()\n        Return the installed asynchronous generators hooks.\n        \n        This returns a namedtuple of the form (firstiter, finalizer).\n    \n    get_coroutine_origin_tracking_depth()\n        Check status of origin tracking for coroutine objects in this thread.\n    \n    getallocatedblocks()\n        Return the number of memory blocks currently allocated.\n    \n    getcheckinterval()\n        Return the current check interval; see sys.setcheckinterval().\n    \n    getdefaultencoding()\n        Return the current default encoding used by the Unicode implementation.\n    \n    getfilesystemencodeerrors()\n        Return the error mode used Unicode to OS filename conversion.\n    \n    getfilesystemencoding()\n        Return the encoding used to convert Unicode filenames to OS filenames.\n    \n    getprofile()\n        Return the profiling function set with sys.setprofile.\n        \n        See the profiler chapter in the library manual.\n    \n    getrecursionlimit()\n        Return the current value of the recursion limit.\n        \n        The recursion limit is the maximum depth of the Python interpreter\n        stack.  This limit prevents infinite recursion from causing an overflow\n        of the C stack and crashing Python.\n    \n    getrefcount(object, /)\n        Return the reference count of object.\n        \n        The count returned is generally one higher than you might expect,\n        because it includes the (temporary) reference as an argument to\n        getrefcount().\n    \n    getsizeof(...)\n        getsizeof(object [, default]) -> int\n        \n        Return the size of object in bytes.\n    \n    getswitchinterval()\n        Return the current thread switch interval; see sys.setswitchinterval().\n    \n    gettrace()\n        Return the global debug tracing function set with sys.settrace.\n        \n        See the debugger chapter in the library manual.\n    \n    getwindowsversion()\n        Return info about the running version of Windows as a named tuple.\n        \n        The members are named: major, minor, build, platform, service_pack,\n        service_pack_major, service_pack_minor, suite_mask, product_type and\n        platform_version. For backward compatibility, only the first 5 items\n        are available by indexing. All elements are numbers, except\n        service_pack and platform_type which are strings, and platform_version\n        which is a 3-tuple. Platform is always 2. Product_type may be 1 for a\n        workstation, 2 for a domain controller, 3 for a server.\n        Platform_version is a 3-tuple containing a version number that is\n        intended for identifying the OS rather than feature detection.\n    \n    intern(string, /)\n        ``Intern'' the given string.\n        \n        This enters the string in the (global) table of interned strings whose\n        purpose is to speed up dictionary lookups. Return the string itself or\n        the previously interned string object with the same value.\n    \n    is_finalizing()\n        Return True if Python is exiting.\n    \n    set_asyncgen_hooks(...)\n        set_asyncgen_hooks(* [, firstiter] [, finalizer])\n        \n        Set a finalizer for async generators objects.\n    \n    set_coroutine_origin_tracking_depth(depth)\n        Enable or disable origin tracking for coroutine objects in this thread.\n        \n        Coroutine objects will track 'depth' frames of traceback information\n        about where they came from, available in their cr_origin attribute.\n        \n        Set a depth of 0 to disable.\n    \n    setcheckinterval(n, /)\n        Set the async event check interval to n instructions.\n        \n        This tells the Python interpreter to check for asynchronous events\n        every n instructions.\n        \n        This also affects how often thread switches occur.\n    \n    setprofile(...)\n        setprofile(function)\n        \n        Set the profiling function.  It will be called on each function call\n        and return.  See the profiler chapter in the library manual.\n    \n    setrecursionlimit(limit, /)\n        Set the maximum depth of the Python interpreter stack to n.\n        \n        This limit prevents infinite recursion from causing an overflow of the C\n        stack and crashing Python.  The highest possible limit is platform-\n        dependent.\n    \n    setswitchinterval(interval, /)\n        Set the ideal thread switching delay inside the Python interpreter.\n        \n        The actual frequency of switching threads can be lower if the\n        interpreter executes long sequences of uninterruptible code\n        (this is implementation-specific and workload-dependent).\n        \n        The parameter must represent the desired switching delay in seconds\n        A typical value is 0.005 (5 milliseconds).\n    \n    settrace(...)\n        settrace(function)\n        \n        Set the global debug tracing function.  It will be called on each\n        function call.  See the debugger chapter in the library manual.\n    \n    unraisablehook(unraisable, /)\n        Handle an unraisable exception.\n        \n        The unraisable argument has the following attributes:\n        \n        * exc_type: Exception type.\n        * exc_value: Exception value, can be None.\n        * exc_traceback: Exception traceback, can be None.\n        * err_msg: Error message, can be None.\n        * object: Object causing the exception, can be None.\n\nDATA\n    __stderr__ = <_io.TextIOWrapper name='<stderr>' mode='w' encoding='utf...\n    __stdin__ = <_io.TextIOWrapper name='<stdin>' mode='r' encoding='utf-8...\n    __stdout__ = <_io.TextIOWrapper name='<stdout>' mode='w' encoding='utf...\n    api_version = 1013\n    argv = [r'C:\\Anaconda\\lib\\site-packages\\ipykernel_launcher.py', '-f', ...\n    base_exec_prefix = r'C:\\Anaconda'\n    base_prefix = r'C:\\Anaconda'\n    builtin_module_names = ('_abc', '_ast', '_bisect', '_blake2', '_codecs...\n    byteorder = 'little'\n    copyright = 'Copyright (c) 2001-2020 Python Software Foundati...ematis...\n    displayhook = <ipykernel.displayhook.ZMQShellDisplayHook object>\n    dllhandle = 140721945378816\n    dont_write_bytecode = False\n    exec_prefix = r'C:\\Anaconda'\n    executable = r'C:\\Anaconda\\python.exe'\n    flags = sys.flags(debug=0, inspect=0, interactive=0, opt...ation=1, is...\n    float_info = sys.float_info(max=1.7976931348623157e+308, max_...epsilo...\n    float_repr_style = 'short'\n    hash_info = sys.hash_info(width=64, modulus=2305843009213693...iphash2...\n    hexversion = 50856944\n    implementation = namespace(cache_tag='cpython-38', hexversion=508...in...\n    int_info = sys.int_info(bits_per_digit=30, sizeof_digit=4)\n    last_value = SyntaxError('invalid syntax', ('<ipython-input-1...f0402b...\n    maxsize = 9223372036854775807\n    maxunicode = 1114111\n    meta_path = [<class '_frozen_importlib.BuiltinImporter'>, <class '_fro...\n    modules = {'IPython': <module 'IPython' from 'C:\\\\Anaconda\\\\lib\\\\site-...\n    path = [r'e:\\Projetos\\livroLearningPython_MarkLutz', 'files', r'C:\\Use...\n    path_hooks = [<class 'zipimport.zipimporter'>, <function FileFinder.pa...\n    path_importer_cache = {r'C:\\Anaconda': FileFinder('C:\\\\Anaconda'), r'C...\n    platform = 'win32'\n    prefix = r'C:\\Anaconda'\n    ps1 = 'In : '\n    ps2 = '...: '\n    ps3 = 'Out: '\n    pycache_prefix = None\n    stderr = <ipykernel.iostream.OutStream object>\n    stdin = <_io.TextIOWrapper name='<stdin>' mode='r' encoding='utf-8'>\n    stdout = <ipykernel.iostream.OutStream object>\n    thread_info = sys.thread_info(name='nt', lock=None, version=None)\n    version = '3.8.3 (default, Jul  2 2020, 17:30:36) [MSC v.1916 64 bit (...\n    version_info = sys.version_info(major=3, minor=8, micro=3, releaseleve...\n    warnoptions = ['ignore']\n    winver = '3.8'\n\nFILE\n    (built-in)\n\n\n"
    }
   ],
   "source": [
    "help(sys)"
   ]
  },
  {
   "cell_type": "code",
   "execution_count": 16,
   "metadata": {
    "tags": []
   },
   "outputs": [
    {
     "output_type": "stream",
     "name": "stdout",
     "text": "Help on class dict in module builtins:\n\nclass dict(object)\n |  dict() -> new empty dictionary\n |  dict(mapping) -> new dictionary initialized from a mapping object's\n |      (key, value) pairs\n |  dict(iterable) -> new dictionary initialized as if via:\n |      d = {}\n |      for k, v in iterable:\n |          d[k] = v\n |  dict(**kwargs) -> new dictionary initialized with the name=value pairs\n |      in the keyword argument list.  For example:  dict(one=1, two=2)\n |  \n |  Built-in subclasses:\n |      StgDict\n |  \n |  Methods defined here:\n |  \n |  __contains__(self, key, /)\n |      True if the dictionary has the specified key, else False.\n |  \n |  __delitem__(self, key, /)\n |      Delete self[key].\n |  \n |  __eq__(self, value, /)\n |      Return self==value.\n |  \n |  __ge__(self, value, /)\n |      Return self>=value.\n |  \n |  __getattribute__(self, name, /)\n |      Return getattr(self, name).\n |  \n |  __getitem__(...)\n |      x.__getitem__(y) <==> x[y]\n |  \n |  __gt__(self, value, /)\n |      Return self>value.\n |  \n |  __init__(self, /, *args, **kwargs)\n |      Initialize self.  See help(type(self)) for accurate signature.\n |  \n |  __iter__(self, /)\n |      Implement iter(self).\n |  \n |  __le__(self, value, /)\n |      Return self<=value.\n |  \n |  __len__(self, /)\n |      Return len(self).\n |  \n |  __lt__(self, value, /)\n |      Return self<value.\n |  \n |  __ne__(self, value, /)\n |      Return self!=value.\n |  \n |  __repr__(self, /)\n |      Return repr(self).\n |  \n |  __reversed__(self, /)\n |      Return a reverse iterator over the dict keys.\n |  \n |  __setitem__(self, key, value, /)\n |      Set self[key] to value.\n |  \n |  __sizeof__(...)\n |      D.__sizeof__() -> size of D in memory, in bytes\n |  \n |  clear(...)\n |      D.clear() -> None.  Remove all items from D.\n |  \n |  copy(...)\n |      D.copy() -> a shallow copy of D\n |  \n |  get(self, key, default=None, /)\n |      Return the value for key if key is in the dictionary, else default.\n |  \n |  items(...)\n |      D.items() -> a set-like object providing a view on D's items\n |  \n |  keys(...)\n |      D.keys() -> a set-like object providing a view on D's keys\n |  \n |  pop(...)\n |      D.pop(k[,d]) -> v, remove specified key and return the corresponding value.\n |      If key is not found, d is returned if given, otherwise KeyError is raised\n |  \n |  popitem(self, /)\n |      Remove and return a (key, value) pair as a 2-tuple.\n |      \n |      Pairs are returned in LIFO (last-in, first-out) order.\n |      Raises KeyError if the dict is empty.\n |  \n |  setdefault(self, key, default=None, /)\n |      Insert key with a value of default if key is not in the dictionary.\n |      \n |      Return the value for key if key is in the dictionary, else default.\n |  \n |  update(...)\n |      D.update([E, ]**F) -> None.  Update D from dict/iterable E and F.\n |      If E is present and has a .keys() method, then does:  for k in E: D[k] = E[k]\n |      If E is present and lacks a .keys() method, then does:  for k, v in E: D[k] = v\n |      In either case, this is followed by: for k in F:  D[k] = F[k]\n |  \n |  values(...)\n |      D.values() -> an object providing a view on D's values\n |  \n |  ----------------------------------------------------------------------\n |  Class methods defined here:\n |  \n |  fromkeys(iterable, value=None, /) from builtins.type\n |      Create a new dictionary with keys from iterable and values set to value.\n |  \n |  ----------------------------------------------------------------------\n |  Static methods defined here:\n |  \n |  __new__(*args, **kwargs) from builtins.type\n |      Create and return a new object.  See help(type) for accurate signature.\n |  \n |  ----------------------------------------------------------------------\n |  Data and other attributes defined here:\n |  \n |  __hash__ = None\n\n"
    }
   ],
   "source": [
    "help(dict)"
   ]
  },
  {
   "cell_type": "code",
   "execution_count": 17,
   "metadata": {},
   "outputs": [],
   "source": [
    "import docstrings"
   ]
  },
  {
   "cell_type": "code",
   "execution_count": 18,
   "metadata": {
    "tags": []
   },
   "outputs": [
    {
     "output_type": "stream",
     "name": "stdout",
     "text": "Help on function square in module docstrings:\n\nsquare(x)\n    function documentation\n    can we have your liver then?\n\n"
    }
   ],
   "source": [
    "help(docstrings.square)"
   ]
  },
  {
   "cell_type": "code",
   "execution_count": 19,
   "metadata": {
    "tags": []
   },
   "outputs": [
    {
     "output_type": "stream",
     "name": "stdout",
     "text": "Help on class Employee in module docstrings:\n\nclass Employee(builtins.object)\n |  class documentation\n |  \n |  Data descriptors defined here:\n |  \n |  __dict__\n |      dictionary for instance variables (if defined)\n |  \n |  __weakref__\n |      list of weak references to the object (if defined)\n\n"
    }
   ],
   "source": [
    "help(docstrings.Employee)"
   ]
  },
  {
   "cell_type": "code",
   "execution_count": 20,
   "metadata": {
    "tags": []
   },
   "outputs": [
    {
     "output_type": "stream",
     "name": "stdout",
     "text": "Help on module docstrings:\n\nNAME\n    docstrings\n\nDESCRIPTION\n    Module documentation\n    Words Go Here\n\nCLASSES\n    builtins.object\n        Employee\n    \n    class Employee(builtins.object)\n     |  class documentation\n     |  \n     |  Data descriptors defined here:\n     |  \n     |  __dict__\n     |      dictionary for instance variables (if defined)\n     |  \n     |  __weakref__\n     |      list of weak references to the object (if defined)\n\nFUNCTIONS\n    square(x)\n        function documentation\n        can we have your liver then?\n\nDATA\n    spam = 40\n\nFILE\n    e:\\projetos\\livrolearningpython_marklutz\\files\\docstrings.py\n\n\n"
    }
   ],
   "source": [
    "help(docstrings)"
   ]
  },
  {
   "cell_type": "markdown",
   "metadata": {},
   "source": [
    "## PyDoc: HTML Reports"
   ]
  },
  {
   "cell_type": "code",
   "execution_count": 22,
   "metadata": {},
   "outputs": [
    {
     "output_type": "error",
     "ename": "SyntaxError",
     "evalue": "invalid syntax (<ipython-input-22-aab0f8d5d036>, line 1)",
     "traceback": [
      "\u001b[1;36m  File \u001b[1;32m\"<ipython-input-22-aab0f8d5d036>\"\u001b[1;36m, line \u001b[1;32m1\u001b[0m\n\u001b[1;33m    python -m pydoc -b\u001b[0m\n\u001b[1;37m              ^\u001b[0m\n\u001b[1;31mSyntaxError\u001b[0m\u001b[1;31m:\u001b[0m invalid syntax\n"
     ]
    }
   ],
   "source": [
    "python -m pydoc -b # execvutar no terminal"
   ]
  },
  {
   "cell_type": "code",
   "execution_count": 25,
   "metadata": {},
   "outputs": [
    {
     "output_type": "error",
     "ename": "SyntaxError",
     "evalue": "invalid syntax (<ipython-input-25-b37c64c1cc8e>, line 1)",
     "traceback": [
      "\u001b[1;36m  File \u001b[1;32m\"<ipython-input-25-b37c64c1cc8e>\"\u001b[1;36m, line \u001b[1;32m1\u001b[0m\n\u001b[1;33m    python -m pydoc timeit\u001b[0m\n\u001b[1;37m              ^\u001b[0m\n\u001b[1;31mSyntaxError\u001b[0m\u001b[1;31m:\u001b[0m invalid syntax\n"
     ]
    }
   ],
   "source": [
    "python -m pydoc timeit  # execvutar no terminal"
   ]
  },
  {
   "cell_type": "code",
   "execution_count": 26,
   "metadata": {
    "tags": []
   },
   "outputs": [
    {
     "output_type": "stream",
     "name": "stdout",
     "text": "Help on module timeit:\n\nNAME\n    timeit - Tool for measuring execution time of small code snippets.\n\nMODULE REFERENCE\n    https://docs.python.org/3.8/library/timeit\n    \n    The following documentation is automatically generated from the Python\n    source files.  It may be incomplete, incorrect or include features that\n    are considered implementation detail and may vary between Python\n    implementations.  When in doubt, consult the module reference at the\n    location listed above.\n\nDESCRIPTION\n    This module avoids a number of common traps for measuring execution\n    times.  See also Tim Peters' introduction to the Algorithms chapter in\n    the Python Cookbook, published by O'Reilly.\n    \n    Library usage: see the Timer class.\n    \n    Command line usage:\n        python timeit.py [-n N] [-r N] [-s S] [-p] [-h] [--] [statement]\n    \n    Options:\n      -n/--number N: how many times to execute 'statement' (default: see below)\n      -r/--repeat N: how many times to repeat the timer (default 5)\n      -s/--setup S: statement to be executed once initially (default 'pass').\n                    Execution time of this setup statement is NOT timed.\n      -p/--process: use time.process_time() (default is time.perf_counter())\n      -v/--verbose: print raw timing results; repeat for more digits precision\n      -u/--unit: set the output time unit (nsec, usec, msec, or sec)\n      -h/--help: print this usage message and exit\n      --: separate options from statement, use when statement starts with -\n      statement: statement to be timed (default 'pass')\n    \n    A multi-line statement may be given by specifying each line as a\n    separate argument; indented lines are possible by enclosing an\n    argument in quotes and using leading spaces.  Multiple -s options are\n    treated similarly.\n    \n    If -n is not given, a suitable number of loops is calculated by trying\n    increasing numbers from the sequence 1, 2, 5, 10, 20, 50, ... until the\n    total time is at least 0.2 seconds.\n    \n    Note: there is a certain baseline overhead associated with executing a\n    pass statement.  It differs between versions.  The code here doesn't try\n    to hide it, but you should be aware of it.  The baseline overhead can be\n    measured by invoking the program without arguments.\n    \n    Classes:\n    \n        Timer\n    \n    Functions:\n    \n        timeit(string, string) -> float\n        repeat(string, string) -> list\n        default_timer() -> float\n\nCLASSES\n    builtins.object\n        Timer\n    \n    class Timer(builtins.object)\n     |  Timer(stmt='pass', setup='pass', timer=<built-in function perf_counter>, globals=None)\n     |  \n     |  Class for timing execution speed of small code snippets.\n     |  \n     |  The constructor takes a statement to be timed, an additional\n     |  statement used for setup, and a timer function.  Both statements\n     |  default to 'pass'; the timer function is platform-dependent (see\n     |  module doc string).  If 'globals' is specified, the code will be\n     |  executed within that namespace (as opposed to inside timeit's\n     |  namespace).\n     |  \n     |  To measure the execution time of the first statement, use the\n     |  timeit() method.  The repeat() method is a convenience to call\n     |  timeit() multiple times and return a list of results.\n     |  \n     |  The statements may contain newlines, as long as they don't contain\n     |  multi-line string literals.\n     |  \n     |  Methods defined here:\n     |  \n     |  __init__(self, stmt='pass', setup='pass', timer=<built-in function perf_counter>, globals=None)\n     |      Constructor.  See class doc string.\n     |  \n     |  autorange(self, callback=None)\n     |      Return the number of loops and time taken so that total time >= 0.2.\n     |      \n     |      Calls the timeit method with increasing numbers from the sequence\n     |      1, 2, 5, 10, 20, 50, ... until the time taken is at least 0.2\n     |      second.  Returns (number, time_taken).\n     |      \n     |      If *callback* is given and is not None, it will be called after\n     |      each trial with two arguments: ``callback(number, time_taken)``.\n     |  \n     |  print_exc(self, file=None)\n     |      Helper to print a traceback from the timed code.\n     |      \n     |      Typical use:\n     |      \n     |          t = Timer(...)       # outside the try/except\n     |          try:\n     |              t.timeit(...)    # or t.repeat(...)\n     |          except:\n     |              t.print_exc()\n     |      \n     |      The advantage over the standard traceback is that source lines\n     |      in the compiled template will be displayed.\n     |      \n     |      The optional file argument directs where the traceback is\n     |      sent; it defaults to sys.stderr.\n     |  \n     |  repeat(self, repeat=5, number=1000000)\n     |      Call timeit() a few times.\n     |      \n     |      This is a convenience function that calls the timeit()\n     |      repeatedly, returning a list of results.  The first argument\n     |      specifies how many times to call timeit(), defaulting to 5;\n     |      the second argument specifies the timer argument, defaulting\n     |      to one million.\n     |      \n     |      Note: it's tempting to calculate mean and standard deviation\n     |      from the result vector and report these.  However, this is not\n     |      very useful.  In a typical case, the lowest value gives a\n     |      lower bound for how fast your machine can run the given code\n     |      snippet; higher values in the result vector are typically not\n     |      caused by variability in Python's speed, but by other\n     |      processes interfering with your timing accuracy.  So the min()\n     |      of the result is probably the only number you should be\n     |      interested in.  After that, you should look at the entire\n     |      vector and apply common sense rather than statistics.\n     |  \n     |  timeit(self, number=1000000)\n     |      Time 'number' executions of the main statement.\n     |      \n     |      To be precise, this executes the setup statement once, and\n     |      then returns the time it takes to execute the main statement\n     |      a number of times, as a float measured in seconds.  The\n     |      argument is the number of times through the loop, defaulting\n     |      to one million.  The main statement, the setup statement and\n     |      the timer function to be used are passed to the constructor.\n     |  \n     |  ----------------------------------------------------------------------\n     |  Data descriptors defined here:\n     |  \n     |  __dict__\n     |      dictionary for instance variables (if defined)\n     |  \n     |  __weakref__\n     |      list of weak references to the object (if defined)\n\nFUNCTIONS\n    default_timer = perf_counter(...)\n        perf_counter() -> float\n        \n        Performance counter for benchmarking.\n    \n    repeat(stmt='pass', setup='pass', timer=<built-in function perf_counter>, repeat=5, number=1000000, globals=None)\n        Convenience function to create Timer object and call repeat method.\n    \n    timeit(stmt='pass', setup='pass', timer=<built-in function perf_counter>, number=1000000, globals=None)\n        Convenience function to create Timer object and call timeit method.\n\nDATA\n    __all__ = ['Timer', 'timeit', 'repeat', 'default_timer']\n\nFILE\n    c:\\anaconda\\lib\\timeit.py\n\n\n"
    }
   ],
   "source": [
    "help(\"timeit\")"
   ]
  },
  {
   "cell_type": "markdown",
   "metadata": {},
   "source": [
    "## Beyond docstrings: Sphinx"
   ]
  },
  {
   "cell_type": "markdown",
   "metadata": {},
   "source": [
    "http://sphinx-doc.org"
   ]
  }
 ]
}